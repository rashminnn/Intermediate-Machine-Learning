{
 "cells": [
  {
   "cell_type": "markdown",
   "id": "3f441f76",
   "metadata": {
    "papermill": {
     "duration": 0.010872,
     "end_time": "2024-10-22T07:26:31.852137",
     "exception": false,
     "start_time": "2024-10-22T07:26:31.841265",
     "status": "completed"
    },
    "tags": []
   },
   "source": [
    "**This notebook is an exercise in the [Intermediate Machine Learning](https://www.kaggle.com/learn/intermediate-machine-learning) course.  You can reference the tutorial at [this link](https://www.kaggle.com/alexisbcook/missing-values).**\n",
    "\n",
    "---\n"
   ]
  },
  {
   "cell_type": "markdown",
   "id": "ec319a17",
   "metadata": {
    "papermill": {
     "duration": 0.009776,
     "end_time": "2024-10-22T07:26:31.872190",
     "exception": false,
     "start_time": "2024-10-22T07:26:31.862414",
     "status": "completed"
    },
    "tags": []
   },
   "source": [
    "Now it's your turn to test your new knowledge of **missing values** handling. You'll probably find it makes a big difference.\n",
    "\n",
    "# Setup\n",
    "\n",
    "The questions will give you feedback on your work. Run the following cell to set up the feedback system."
   ]
  },
  {
   "cell_type": "code",
   "execution_count": 1,
   "id": "00ebc1e0",
   "metadata": {
    "execution": {
     "iopub.execute_input": "2024-10-22T07:26:31.894821Z",
     "iopub.status.busy": "2024-10-22T07:26:31.894158Z",
     "iopub.status.idle": "2024-10-22T07:26:33.025853Z",
     "shell.execute_reply": "2024-10-22T07:26:33.024503Z"
    },
    "papermill": {
     "duration": 1.146581,
     "end_time": "2024-10-22T07:26:33.028927",
     "exception": false,
     "start_time": "2024-10-22T07:26:31.882346",
     "status": "completed"
    },
    "tags": []
   },
   "outputs": [
    {
     "name": "stdout",
     "output_type": "stream",
     "text": [
      "Setup Complete\n"
     ]
    }
   ],
   "source": [
    "# Set up code checking\n",
    "import os\n",
    "if not os.path.exists(\"../input/train.csv\"):\n",
    "    os.symlink(\"../input/home-data-for-ml-course/train.csv\", \"../input/train.csv\")  \n",
    "    os.symlink(\"../input/home-data-for-ml-course/test.csv\", \"../input/test.csv\") \n",
    "from learntools.core import binder\n",
    "binder.bind(globals())\n",
    "from learntools.ml_intermediate.ex2 import *\n",
    "print(\"Setup Complete\")"
   ]
  },
  {
   "cell_type": "markdown",
   "id": "8adc31a3",
   "metadata": {
    "papermill": {
     "duration": 0.009954,
     "end_time": "2024-10-22T07:26:33.050432",
     "exception": false,
     "start_time": "2024-10-22T07:26:33.040478",
     "status": "completed"
    },
    "tags": []
   },
   "source": [
    "In this exercise, you will work with data from the [Housing Prices Competition for Kaggle Learn Users](https://www.kaggle.com/c/home-data-for-ml-course). \n",
    "\n",
    "![Ames Housing dataset image](https://storage.googleapis.com/kaggle-media/learn/images/lTJVG4e.png)\n",
    "\n",
    "Run the next code cell without changes to load the training and validation sets in `X_train`, `X_valid`, `y_train`, and `y_valid`.  The test set is loaded in `X_test`."
   ]
  },
  {
   "cell_type": "code",
   "execution_count": 2,
   "id": "ec3f5523",
   "metadata": {
    "execution": {
     "iopub.execute_input": "2024-10-22T07:26:33.073530Z",
     "iopub.status.busy": "2024-10-22T07:26:33.072834Z",
     "iopub.status.idle": "2024-10-22T07:26:34.935434Z",
     "shell.execute_reply": "2024-10-22T07:26:34.934128Z"
    },
    "papermill": {
     "duration": 1.877417,
     "end_time": "2024-10-22T07:26:34.938389",
     "exception": false,
     "start_time": "2024-10-22T07:26:33.060972",
     "status": "completed"
    },
    "tags": []
   },
   "outputs": [],
   "source": [
    "import pandas as pd\n",
    "from sklearn.model_selection import train_test_split\n",
    "\n",
    "# Read the data\n",
    "X_full = pd.read_csv('../input/train.csv', index_col='Id')\n",
    "X_test_full = pd.read_csv('../input/test.csv', index_col='Id')\n",
    "\n",
    "# Remove rows with missing target, separate target from predictors\n",
    "X_full.dropna(axis=0, subset=['SalePrice'], inplace=True)\n",
    "y = X_full.SalePrice\n",
    "X_full.drop(['SalePrice'], axis=1, inplace=True)\n",
    "\n",
    "# To keep things simple, we'll use only numerical predictors\n",
    "X = X_full.select_dtypes(exclude=['object'])\n",
    "X_test = X_test_full.select_dtypes(exclude=['object'])\n",
    "\n",
    "# Break off validation set from training data\n",
    "X_train, X_valid, y_train, y_valid = train_test_split(X, y, train_size=0.8, test_size=0.2,\n",
    "                                                      random_state=0)"
   ]
  },
  {
   "cell_type": "markdown",
   "id": "261c45cd",
   "metadata": {
    "papermill": {
     "duration": 0.009825,
     "end_time": "2024-10-22T07:26:34.958710",
     "exception": false,
     "start_time": "2024-10-22T07:26:34.948885",
     "status": "completed"
    },
    "tags": []
   },
   "source": [
    "Use the next code cell to print the first five rows of the data."
   ]
  },
  {
   "cell_type": "code",
   "execution_count": 3,
   "id": "0be07521",
   "metadata": {
    "execution": {
     "iopub.execute_input": "2024-10-22T07:26:34.981538Z",
     "iopub.status.busy": "2024-10-22T07:26:34.981022Z",
     "iopub.status.idle": "2024-10-22T07:26:35.014398Z",
     "shell.execute_reply": "2024-10-22T07:26:35.012757Z"
    },
    "papermill": {
     "duration": 0.04827,
     "end_time": "2024-10-22T07:26:35.017363",
     "exception": false,
     "start_time": "2024-10-22T07:26:34.969093",
     "status": "completed"
    },
    "tags": []
   },
   "outputs": [
    {
     "data": {
      "text/html": [
       "<div>\n",
       "<style scoped>\n",
       "    .dataframe tbody tr th:only-of-type {\n",
       "        vertical-align: middle;\n",
       "    }\n",
       "\n",
       "    .dataframe tbody tr th {\n",
       "        vertical-align: top;\n",
       "    }\n",
       "\n",
       "    .dataframe thead th {\n",
       "        text-align: right;\n",
       "    }\n",
       "</style>\n",
       "<table border=\"1\" class=\"dataframe\">\n",
       "  <thead>\n",
       "    <tr style=\"text-align: right;\">\n",
       "      <th></th>\n",
       "      <th>MSSubClass</th>\n",
       "      <th>LotFrontage</th>\n",
       "      <th>LotArea</th>\n",
       "      <th>OverallQual</th>\n",
       "      <th>OverallCond</th>\n",
       "      <th>YearBuilt</th>\n",
       "      <th>YearRemodAdd</th>\n",
       "      <th>MasVnrArea</th>\n",
       "      <th>BsmtFinSF1</th>\n",
       "      <th>BsmtFinSF2</th>\n",
       "      <th>...</th>\n",
       "      <th>GarageArea</th>\n",
       "      <th>WoodDeckSF</th>\n",
       "      <th>OpenPorchSF</th>\n",
       "      <th>EnclosedPorch</th>\n",
       "      <th>3SsnPorch</th>\n",
       "      <th>ScreenPorch</th>\n",
       "      <th>PoolArea</th>\n",
       "      <th>MiscVal</th>\n",
       "      <th>MoSold</th>\n",
       "      <th>YrSold</th>\n",
       "    </tr>\n",
       "    <tr>\n",
       "      <th>Id</th>\n",
       "      <th></th>\n",
       "      <th></th>\n",
       "      <th></th>\n",
       "      <th></th>\n",
       "      <th></th>\n",
       "      <th></th>\n",
       "      <th></th>\n",
       "      <th></th>\n",
       "      <th></th>\n",
       "      <th></th>\n",
       "      <th></th>\n",
       "      <th></th>\n",
       "      <th></th>\n",
       "      <th></th>\n",
       "      <th></th>\n",
       "      <th></th>\n",
       "      <th></th>\n",
       "      <th></th>\n",
       "      <th></th>\n",
       "      <th></th>\n",
       "      <th></th>\n",
       "    </tr>\n",
       "  </thead>\n",
       "  <tbody>\n",
       "    <tr>\n",
       "      <th>619</th>\n",
       "      <td>20</td>\n",
       "      <td>90.0</td>\n",
       "      <td>11694</td>\n",
       "      <td>9</td>\n",
       "      <td>5</td>\n",
       "      <td>2007</td>\n",
       "      <td>2007</td>\n",
       "      <td>452.0</td>\n",
       "      <td>48</td>\n",
       "      <td>0</td>\n",
       "      <td>...</td>\n",
       "      <td>774</td>\n",
       "      <td>0</td>\n",
       "      <td>108</td>\n",
       "      <td>0</td>\n",
       "      <td>0</td>\n",
       "      <td>260</td>\n",
       "      <td>0</td>\n",
       "      <td>0</td>\n",
       "      <td>7</td>\n",
       "      <td>2007</td>\n",
       "    </tr>\n",
       "    <tr>\n",
       "      <th>871</th>\n",
       "      <td>20</td>\n",
       "      <td>60.0</td>\n",
       "      <td>6600</td>\n",
       "      <td>5</td>\n",
       "      <td>5</td>\n",
       "      <td>1962</td>\n",
       "      <td>1962</td>\n",
       "      <td>0.0</td>\n",
       "      <td>0</td>\n",
       "      <td>0</td>\n",
       "      <td>...</td>\n",
       "      <td>308</td>\n",
       "      <td>0</td>\n",
       "      <td>0</td>\n",
       "      <td>0</td>\n",
       "      <td>0</td>\n",
       "      <td>0</td>\n",
       "      <td>0</td>\n",
       "      <td>0</td>\n",
       "      <td>8</td>\n",
       "      <td>2009</td>\n",
       "    </tr>\n",
       "    <tr>\n",
       "      <th>93</th>\n",
       "      <td>30</td>\n",
       "      <td>80.0</td>\n",
       "      <td>13360</td>\n",
       "      <td>5</td>\n",
       "      <td>7</td>\n",
       "      <td>1921</td>\n",
       "      <td>2006</td>\n",
       "      <td>0.0</td>\n",
       "      <td>713</td>\n",
       "      <td>0</td>\n",
       "      <td>...</td>\n",
       "      <td>432</td>\n",
       "      <td>0</td>\n",
       "      <td>0</td>\n",
       "      <td>44</td>\n",
       "      <td>0</td>\n",
       "      <td>0</td>\n",
       "      <td>0</td>\n",
       "      <td>0</td>\n",
       "      <td>8</td>\n",
       "      <td>2009</td>\n",
       "    </tr>\n",
       "    <tr>\n",
       "      <th>818</th>\n",
       "      <td>20</td>\n",
       "      <td>NaN</td>\n",
       "      <td>13265</td>\n",
       "      <td>8</td>\n",
       "      <td>5</td>\n",
       "      <td>2002</td>\n",
       "      <td>2002</td>\n",
       "      <td>148.0</td>\n",
       "      <td>1218</td>\n",
       "      <td>0</td>\n",
       "      <td>...</td>\n",
       "      <td>857</td>\n",
       "      <td>150</td>\n",
       "      <td>59</td>\n",
       "      <td>0</td>\n",
       "      <td>0</td>\n",
       "      <td>0</td>\n",
       "      <td>0</td>\n",
       "      <td>0</td>\n",
       "      <td>7</td>\n",
       "      <td>2008</td>\n",
       "    </tr>\n",
       "    <tr>\n",
       "      <th>303</th>\n",
       "      <td>20</td>\n",
       "      <td>118.0</td>\n",
       "      <td>13704</td>\n",
       "      <td>7</td>\n",
       "      <td>5</td>\n",
       "      <td>2001</td>\n",
       "      <td>2002</td>\n",
       "      <td>150.0</td>\n",
       "      <td>0</td>\n",
       "      <td>0</td>\n",
       "      <td>...</td>\n",
       "      <td>843</td>\n",
       "      <td>468</td>\n",
       "      <td>81</td>\n",
       "      <td>0</td>\n",
       "      <td>0</td>\n",
       "      <td>0</td>\n",
       "      <td>0</td>\n",
       "      <td>0</td>\n",
       "      <td>1</td>\n",
       "      <td>2006</td>\n",
       "    </tr>\n",
       "  </tbody>\n",
       "</table>\n",
       "<p>5 rows × 36 columns</p>\n",
       "</div>"
      ],
      "text/plain": [
       "     MSSubClass  LotFrontage  LotArea  OverallQual  OverallCond  YearBuilt  \\\n",
       "Id                                                                           \n",
       "619          20         90.0    11694            9            5       2007   \n",
       "871          20         60.0     6600            5            5       1962   \n",
       "93           30         80.0    13360            5            7       1921   \n",
       "818          20          NaN    13265            8            5       2002   \n",
       "303          20        118.0    13704            7            5       2001   \n",
       "\n",
       "     YearRemodAdd  MasVnrArea  BsmtFinSF1  BsmtFinSF2  ...  GarageArea  \\\n",
       "Id                                                     ...               \n",
       "619          2007       452.0          48           0  ...         774   \n",
       "871          1962         0.0           0           0  ...         308   \n",
       "93           2006         0.0         713           0  ...         432   \n",
       "818          2002       148.0        1218           0  ...         857   \n",
       "303          2002       150.0           0           0  ...         843   \n",
       "\n",
       "     WoodDeckSF  OpenPorchSF  EnclosedPorch  3SsnPorch  ScreenPorch  PoolArea  \\\n",
       "Id                                                                              \n",
       "619           0          108              0          0          260         0   \n",
       "871           0            0              0          0            0         0   \n",
       "93            0            0             44          0            0         0   \n",
       "818         150           59              0          0            0         0   \n",
       "303         468           81              0          0            0         0   \n",
       "\n",
       "     MiscVal  MoSold  YrSold  \n",
       "Id                            \n",
       "619        0       7    2007  \n",
       "871        0       8    2009  \n",
       "93         0       8    2009  \n",
       "818        0       7    2008  \n",
       "303        0       1    2006  \n",
       "\n",
       "[5 rows x 36 columns]"
      ]
     },
     "execution_count": 3,
     "metadata": {},
     "output_type": "execute_result"
    }
   ],
   "source": [
    "X_train.head()"
   ]
  },
  {
   "cell_type": "markdown",
   "id": "6d06462e",
   "metadata": {
    "papermill": {
     "duration": 0.010369,
     "end_time": "2024-10-22T07:26:35.038798",
     "exception": false,
     "start_time": "2024-10-22T07:26:35.028429",
     "status": "completed"
    },
    "tags": []
   },
   "source": [
    "You can already see a few missing values in the first several rows.  In the next step, you'll obtain a more comprehensive understanding of the missing values in the dataset.\n",
    "\n",
    "# Step 1: Preliminary investigation\n",
    "\n",
    "Run the code cell below without changes."
   ]
  },
  {
   "cell_type": "code",
   "execution_count": 4,
   "id": "04dc3ed5",
   "metadata": {
    "execution": {
     "iopub.execute_input": "2024-10-22T07:26:35.062837Z",
     "iopub.status.busy": "2024-10-22T07:26:35.062222Z",
     "iopub.status.idle": "2024-10-22T07:26:35.071862Z",
     "shell.execute_reply": "2024-10-22T07:26:35.070594Z"
    },
    "papermill": {
     "duration": 0.024824,
     "end_time": "2024-10-22T07:26:35.074892",
     "exception": false,
     "start_time": "2024-10-22T07:26:35.050068",
     "status": "completed"
    },
    "tags": []
   },
   "outputs": [
    {
     "name": "stdout",
     "output_type": "stream",
     "text": [
      "(1168, 36)\n",
      "LotFrontage    212\n",
      "MasVnrArea       6\n",
      "GarageYrBlt     58\n",
      "dtype: int64\n"
     ]
    }
   ],
   "source": [
    "# Shape of training data (num_rows, num_columns)\n",
    "print(X_train.shape)\n",
    "\n",
    "# Number of missing values in each column of training data\n",
    "missing_val_count_by_column = (X_train.isnull().sum())\n",
    "print(missing_val_count_by_column[missing_val_count_by_column > 0])"
   ]
  },
  {
   "cell_type": "markdown",
   "id": "a875102e",
   "metadata": {
    "papermill": {
     "duration": 0.010318,
     "end_time": "2024-10-22T07:26:35.096109",
     "exception": false,
     "start_time": "2024-10-22T07:26:35.085791",
     "status": "completed"
    },
    "tags": []
   },
   "source": [
    "### Part A\n",
    "\n",
    "Use the above output to answer the questions below."
   ]
  },
  {
   "cell_type": "code",
   "execution_count": 5,
   "id": "3ef3dd8f",
   "metadata": {
    "execution": {
     "iopub.execute_input": "2024-10-22T07:26:35.120754Z",
     "iopub.status.busy": "2024-10-22T07:26:35.119760Z",
     "iopub.status.idle": "2024-10-22T07:26:35.132570Z",
     "shell.execute_reply": "2024-10-22T07:26:35.131240Z"
    },
    "papermill": {
     "duration": 0.028242,
     "end_time": "2024-10-22T07:26:35.135646",
     "exception": false,
     "start_time": "2024-10-22T07:26:35.107404",
     "status": "completed"
    },
    "tags": []
   },
   "outputs": [
    {
     "data": {
      "application/javascript": [
       "parent.postMessage({\"jupyterEvent\": \"custom.exercise_interaction\", \"data\": {\"outcomeType\": 1, \"valueTowardsCompletion\": 1.0, \"interactionType\": 1, \"questionType\": 1, \"questionId\": \"1.1_InvestigateEquality\", \"learnToolsVersion\": \"0.3.4\", \"failureMessage\": \"\", \"exceptionClass\": \"\", \"trace\": \"\"}}, \"*\")"
      ],
      "text/plain": [
       "<IPython.core.display.Javascript object>"
      ]
     },
     "metadata": {},
     "output_type": "display_data"
    },
    {
     "data": {
      "text/markdown": [
       "<span style=\"color:#33cc33\">Correct</span>"
      ],
      "text/plain": [
       "Correct"
      ]
     },
     "metadata": {},
     "output_type": "display_data"
    }
   ],
   "source": [
    "# Fill in the line below: How many rows are in the training data?\n",
    "num_rows = 1168\n",
    "# Fill in the line below: How many columns in the training data\n",
    "# have missing values?\n",
    "num_cols_with_missing = 3\n",
    "\n",
    "# Fill in the line below: How many missing entries are contained in \n",
    "# all of the training data?\n",
    "tot_missing = 212+6+58\n",
    "\n",
    "# Check your answers\n",
    "step_1.a.check()"
   ]
  },
  {
   "cell_type": "code",
   "execution_count": 6,
   "id": "a1855c18",
   "metadata": {
    "execution": {
     "iopub.execute_input": "2024-10-22T07:26:35.161489Z",
     "iopub.status.busy": "2024-10-22T07:26:35.160951Z",
     "iopub.status.idle": "2024-10-22T07:26:35.167216Z",
     "shell.execute_reply": "2024-10-22T07:26:35.165852Z"
    },
    "papermill": {
     "duration": 0.022527,
     "end_time": "2024-10-22T07:26:35.170203",
     "exception": false,
     "start_time": "2024-10-22T07:26:35.147676",
     "status": "completed"
    },
    "tags": []
   },
   "outputs": [],
   "source": [
    "# Lines below will give you a hint or solution code\n",
    "#step_1.a.hint()\n",
    "# step_1.a.solution()"
   ]
  },
  {
   "cell_type": "markdown",
   "id": "035a4ffd",
   "metadata": {
    "papermill": {
     "duration": 0.010692,
     "end_time": "2024-10-22T07:26:35.192139",
     "exception": false,
     "start_time": "2024-10-22T07:26:35.181447",
     "status": "completed"
    },
    "tags": []
   },
   "source": [
    "### Part B\n",
    "Considering your answers above, what do you think is likely the best approach to dealing with the missing values?"
   ]
  },
  {
   "cell_type": "code",
   "execution_count": 7,
   "id": "957980dd",
   "metadata": {
    "execution": {
     "iopub.execute_input": "2024-10-22T07:26:35.216302Z",
     "iopub.status.busy": "2024-10-22T07:26:35.215807Z",
     "iopub.status.idle": "2024-10-22T07:26:35.226777Z",
     "shell.execute_reply": "2024-10-22T07:26:35.225338Z"
    },
    "papermill": {
     "duration": 0.02603,
     "end_time": "2024-10-22T07:26:35.229437",
     "exception": false,
     "start_time": "2024-10-22T07:26:35.203407",
     "status": "completed"
    },
    "tags": []
   },
   "outputs": [
    {
     "data": {
      "application/javascript": [
       "parent.postMessage({\"jupyterEvent\": \"custom.exercise_interaction\", \"data\": {\"outcomeType\": 1, \"valueTowardsCompletion\": 1.0, \"interactionType\": 1, \"questionType\": 4, \"questionId\": \"1.2_InvestigateThought\", \"learnToolsVersion\": \"0.3.4\", \"failureMessage\": \"\", \"exceptionClass\": \"\", \"trace\": \"\"}}, \"*\")"
      ],
      "text/plain": [
       "<IPython.core.display.Javascript object>"
      ]
     },
     "metadata": {},
     "output_type": "display_data"
    },
    {
     "data": {
      "text/markdown": [
       "<span style=\"color:#33cc33\">Correct:</span> \n",
       "\n",
       "Since there are relatively few missing entries in the data (the column with the greatest percentage of missing values is missing less than 20% of its entries), we can expect that dropping columns is unlikely to yield good results.  This is because we'd be throwing away a lot of valuable data, and so imputation will likely perform better."
      ],
      "text/plain": [
       "Correct: \n",
       "\n",
       "Since there are relatively few missing entries in the data (the column with the greatest percentage of missing values is missing less than 20% of its entries), we can expect that dropping columns is unlikely to yield good results.  This is because we'd be throwing away a lot of valuable data, and so imputation will likely perform better."
      ]
     },
     "metadata": {},
     "output_type": "display_data"
    }
   ],
   "source": [
    "# Check your answer (Run this code cell to receive credit!)\n",
    "step_1.b.check()"
   ]
  },
  {
   "cell_type": "code",
   "execution_count": 8,
   "id": "72b3ec86",
   "metadata": {
    "execution": {
     "iopub.execute_input": "2024-10-22T07:26:35.254460Z",
     "iopub.status.busy": "2024-10-22T07:26:35.253557Z",
     "iopub.status.idle": "2024-10-22T07:26:35.258931Z",
     "shell.execute_reply": "2024-10-22T07:26:35.257614Z"
    },
    "papermill": {
     "duration": 0.020551,
     "end_time": "2024-10-22T07:26:35.261438",
     "exception": false,
     "start_time": "2024-10-22T07:26:35.240887",
     "status": "completed"
    },
    "tags": []
   },
   "outputs": [],
   "source": [
    "#step_1.b.hint()"
   ]
  },
  {
   "cell_type": "markdown",
   "id": "0d6de46c",
   "metadata": {
    "papermill": {
     "duration": 0.010951,
     "end_time": "2024-10-22T07:26:35.283757",
     "exception": false,
     "start_time": "2024-10-22T07:26:35.272806",
     "status": "completed"
    },
    "tags": []
   },
   "source": [
    "To compare different approaches to dealing with missing values, you'll use the same `score_dataset()` function from the tutorial.  This function reports the [mean absolute error](https://en.wikipedia.org/wiki/Mean_absolute_error) (MAE) from a random forest model."
   ]
  },
  {
   "cell_type": "code",
   "execution_count": 9,
   "id": "b51141b0",
   "metadata": {
    "execution": {
     "iopub.execute_input": "2024-10-22T07:26:35.308447Z",
     "iopub.status.busy": "2024-10-22T07:26:35.307961Z",
     "iopub.status.idle": "2024-10-22T07:26:35.696063Z",
     "shell.execute_reply": "2024-10-22T07:26:35.694556Z"
    },
    "papermill": {
     "duration": 0.403984,
     "end_time": "2024-10-22T07:26:35.699144",
     "exception": false,
     "start_time": "2024-10-22T07:26:35.295160",
     "status": "completed"
    },
    "tags": []
   },
   "outputs": [],
   "source": [
    "from sklearn.ensemble import RandomForestRegressor\n",
    "from sklearn.metrics import mean_absolute_error\n",
    "\n",
    "# Function for comparing different approaches\n",
    "def score_dataset(X_train, X_valid, y_train, y_valid):\n",
    "    model = RandomForestRegressor(n_estimators=100, random_state=0)\n",
    "    model.fit(X_train, y_train)\n",
    "    preds = model.predict(X_valid)\n",
    "    return mean_absolute_error(y_valid, preds)"
   ]
  },
  {
   "cell_type": "markdown",
   "id": "8fb58c3c",
   "metadata": {
    "papermill": {
     "duration": 0.0111,
     "end_time": "2024-10-22T07:26:35.721810",
     "exception": false,
     "start_time": "2024-10-22T07:26:35.710710",
     "status": "completed"
    },
    "tags": []
   },
   "source": [
    "# Step 2: Drop columns with missing values\n",
    "\n",
    "In this step, you'll preprocess the data in `X_train` and `X_valid` to remove columns with missing values.  Set the preprocessed DataFrames to `reduced_X_train` and `reduced_X_valid`, respectively.  "
   ]
  },
  {
   "cell_type": "code",
   "execution_count": 10,
   "id": "720b1584",
   "metadata": {
    "execution": {
     "iopub.execute_input": "2024-10-22T07:26:35.747830Z",
     "iopub.status.busy": "2024-10-22T07:26:35.747344Z",
     "iopub.status.idle": "2024-10-22T07:26:35.777010Z",
     "shell.execute_reply": "2024-10-22T07:26:35.775684Z"
    },
    "papermill": {
     "duration": 0.046247,
     "end_time": "2024-10-22T07:26:35.779627",
     "exception": false,
     "start_time": "2024-10-22T07:26:35.733380",
     "status": "completed"
    },
    "tags": []
   },
   "outputs": [
    {
     "data": {
      "application/javascript": [
       "parent.postMessage({\"jupyterEvent\": \"custom.exercise_interaction\", \"data\": {\"outcomeType\": 1, \"valueTowardsCompletion\": 1.0, \"interactionType\": 1, \"questionType\": 2, \"questionId\": \"2_DropMissing\", \"learnToolsVersion\": \"0.3.4\", \"failureMessage\": \"\", \"exceptionClass\": \"\", \"trace\": \"\"}}, \"*\")"
      ],
      "text/plain": [
       "<IPython.core.display.Javascript object>"
      ]
     },
     "metadata": {},
     "output_type": "display_data"
    },
    {
     "data": {
      "text/markdown": [
       "<span style=\"color:#33cc33\">Correct</span>"
      ],
      "text/plain": [
       "Correct"
      ]
     },
     "metadata": {},
     "output_type": "display_data"
    }
   ],
   "source": [
    "# Fill in the line below: get names of columns with missing values\n",
    "cols_with_missing = [col for col in X_train.columns if X_train[col].isna().any()] # Your code here\n",
    "\n",
    "# Fill in the lines below: drop columns in training and validation data\n",
    "reduced_X_train = X_train.drop(cols_with_missing, axis = 1)\n",
    "reduced_X_valid = X_valid.drop(cols_with_missing, axis = 1)\n",
    "\n",
    "# Check your answers\n",
    "step_2.check()"
   ]
  },
  {
   "cell_type": "code",
   "execution_count": 11,
   "id": "d46baaca",
   "metadata": {
    "execution": {
     "iopub.execute_input": "2024-10-22T07:26:35.805407Z",
     "iopub.status.busy": "2024-10-22T07:26:35.804888Z",
     "iopub.status.idle": "2024-10-22T07:26:35.810394Z",
     "shell.execute_reply": "2024-10-22T07:26:35.809052Z"
    },
    "papermill": {
     "duration": 0.021386,
     "end_time": "2024-10-22T07:26:35.812913",
     "exception": false,
     "start_time": "2024-10-22T07:26:35.791527",
     "status": "completed"
    },
    "tags": []
   },
   "outputs": [],
   "source": [
    "# Lines below will give you a hint or solution code\n",
    "#step_2.hint()\n",
    "#step_2.solution()"
   ]
  },
  {
   "cell_type": "markdown",
   "id": "33e1723c",
   "metadata": {
    "papermill": {
     "duration": 0.011201,
     "end_time": "2024-10-22T07:26:35.835808",
     "exception": false,
     "start_time": "2024-10-22T07:26:35.824607",
     "status": "completed"
    },
    "tags": []
   },
   "source": [
    "Run the next code cell without changes to obtain the MAE for this approach."
   ]
  },
  {
   "cell_type": "code",
   "execution_count": 12,
   "id": "8be475d0",
   "metadata": {
    "execution": {
     "iopub.execute_input": "2024-10-22T07:26:35.862107Z",
     "iopub.status.busy": "2024-10-22T07:26:35.861623Z",
     "iopub.status.idle": "2024-10-22T07:26:37.389184Z",
     "shell.execute_reply": "2024-10-22T07:26:37.387164Z"
    },
    "papermill": {
     "duration": 1.544279,
     "end_time": "2024-10-22T07:26:37.392385",
     "exception": false,
     "start_time": "2024-10-22T07:26:35.848106",
     "status": "completed"
    },
    "tags": []
   },
   "outputs": [
    {
     "name": "stdout",
     "output_type": "stream",
     "text": [
      "MAE (Drop columns with missing values):\n",
      "17837.82570776256\n"
     ]
    }
   ],
   "source": [
    "print(\"MAE (Drop columns with missing values):\")\n",
    "print(score_dataset(reduced_X_train, reduced_X_valid, y_train, y_valid))"
   ]
  },
  {
   "cell_type": "markdown",
   "id": "8e6b215a",
   "metadata": {
    "papermill": {
     "duration": 0.011928,
     "end_time": "2024-10-22T07:26:37.416941",
     "exception": false,
     "start_time": "2024-10-22T07:26:37.405013",
     "status": "completed"
    },
    "tags": []
   },
   "source": [
    "# Step 3: Imputation\n",
    "\n",
    "### Part A\n",
    "\n",
    "Use the next code cell to impute missing values with the mean value along each column.  Set the preprocessed DataFrames to `imputed_X_train` and `imputed_X_valid`.  Make sure that the column names match those in `X_train` and `X_valid`."
   ]
  },
  {
   "cell_type": "code",
   "execution_count": 13,
   "id": "1f239d0f",
   "metadata": {
    "execution": {
     "iopub.execute_input": "2024-10-22T07:26:37.443821Z",
     "iopub.status.busy": "2024-10-22T07:26:37.442392Z",
     "iopub.status.idle": "2024-10-22T07:26:37.482252Z",
     "shell.execute_reply": "2024-10-22T07:26:37.480413Z"
    },
    "papermill": {
     "duration": 0.056555,
     "end_time": "2024-10-22T07:26:37.485526",
     "exception": false,
     "start_time": "2024-10-22T07:26:37.428971",
     "status": "completed"
    },
    "tags": []
   },
   "outputs": [
    {
     "data": {
      "application/javascript": [
       "parent.postMessage({\"jupyterEvent\": \"custom.exercise_interaction\", \"data\": {\"outcomeType\": 1, \"valueTowardsCompletion\": 1.0, \"interactionType\": 1, \"questionType\": 2, \"questionId\": \"3.1_ImputeCode\", \"learnToolsVersion\": \"0.3.4\", \"failureMessage\": \"\", \"exceptionClass\": \"\", \"trace\": \"\"}}, \"*\")"
      ],
      "text/plain": [
       "<IPython.core.display.Javascript object>"
      ]
     },
     "metadata": {},
     "output_type": "display_data"
    },
    {
     "data": {
      "text/markdown": [
       "<span style=\"color:#33cc33\">Correct</span>"
      ],
      "text/plain": [
       "Correct"
      ]
     },
     "metadata": {},
     "output_type": "display_data"
    }
   ],
   "source": [
    "from sklearn.impute import SimpleImputer\n",
    "\n",
    "# Fill in the lines below: imputation\n",
    "imp = SimpleImputer()# Your code here\n",
    "imputed_X_train = pd.DataFrame(imp.fit_transform(X_train))\n",
    "imputed_X_valid = pd.DataFrame(imp.transform(X_valid))\n",
    "\n",
    "# Fill in the lines below: imputation removed column names; put them back\n",
    "imputed_X_train.columns = X_train.columns\n",
    "imputed_X_valid.columns = X_valid.columns\n",
    "\n",
    "# Check your answers\n",
    "step_3.a.check()"
   ]
  },
  {
   "cell_type": "code",
   "execution_count": 14,
   "id": "e2711110",
   "metadata": {
    "execution": {
     "iopub.execute_input": "2024-10-22T07:26:37.517907Z",
     "iopub.status.busy": "2024-10-22T07:26:37.516942Z",
     "iopub.status.idle": "2024-10-22T07:26:37.523795Z",
     "shell.execute_reply": "2024-10-22T07:26:37.522267Z"
    },
    "papermill": {
     "duration": 0.026034,
     "end_time": "2024-10-22T07:26:37.527260",
     "exception": false,
     "start_time": "2024-10-22T07:26:37.501226",
     "status": "completed"
    },
    "tags": []
   },
   "outputs": [],
   "source": [
    "# Lines below will give you a hint or solution code\n",
    "#step_3.a.hint()\n",
    "#step_3.a.solution()"
   ]
  },
  {
   "cell_type": "markdown",
   "id": "c6d7c978",
   "metadata": {
    "papermill": {
     "duration": 0.01405,
     "end_time": "2024-10-22T07:26:37.556518",
     "exception": false,
     "start_time": "2024-10-22T07:26:37.542468",
     "status": "completed"
    },
    "tags": []
   },
   "source": [
    "Run the next code cell without changes to obtain the MAE for this approach."
   ]
  },
  {
   "cell_type": "code",
   "execution_count": 15,
   "id": "f46482e7",
   "metadata": {
    "execution": {
     "iopub.execute_input": "2024-10-22T07:26:37.583975Z",
     "iopub.status.busy": "2024-10-22T07:26:37.582827Z",
     "iopub.status.idle": "2024-10-22T07:26:39.322454Z",
     "shell.execute_reply": "2024-10-22T07:26:39.320454Z"
    },
    "papermill": {
     "duration": 1.756746,
     "end_time": "2024-10-22T07:26:39.325879",
     "exception": false,
     "start_time": "2024-10-22T07:26:37.569133",
     "status": "completed"
    },
    "tags": []
   },
   "outputs": [
    {
     "name": "stdout",
     "output_type": "stream",
     "text": [
      "MAE (Imputation):\n",
      "18062.894611872147\n"
     ]
    }
   ],
   "source": [
    "print(\"MAE (Imputation):\")\n",
    "print(score_dataset(imputed_X_train, imputed_X_valid, y_train, y_valid))"
   ]
  },
  {
   "cell_type": "markdown",
   "id": "3c45ef53",
   "metadata": {
    "papermill": {
     "duration": 0.012076,
     "end_time": "2024-10-22T07:26:39.350826",
     "exception": false,
     "start_time": "2024-10-22T07:26:39.338750",
     "status": "completed"
    },
    "tags": []
   },
   "source": [
    "### Part B\n",
    "\n",
    "Compare the MAE from each approach.  Does anything surprise you about the results?  Why do you think one approach performed better than the other?"
   ]
  },
  {
   "cell_type": "code",
   "execution_count": 16,
   "id": "ad3e96f5",
   "metadata": {
    "execution": {
     "iopub.execute_input": "2024-10-22T07:26:39.380087Z",
     "iopub.status.busy": "2024-10-22T07:26:39.379055Z",
     "iopub.status.idle": "2024-10-22T07:26:39.392555Z",
     "shell.execute_reply": "2024-10-22T07:26:39.390680Z"
    },
    "papermill": {
     "duration": 0.032476,
     "end_time": "2024-10-22T07:26:39.396006",
     "exception": false,
     "start_time": "2024-10-22T07:26:39.363530",
     "status": "completed"
    },
    "tags": []
   },
   "outputs": [
    {
     "data": {
      "application/javascript": [
       "parent.postMessage({\"jupyterEvent\": \"custom.exercise_interaction\", \"data\": {\"outcomeType\": 1, \"valueTowardsCompletion\": 1.0, \"interactionType\": 1, \"questionType\": 4, \"questionId\": \"3.2_ImputeThought\", \"learnToolsVersion\": \"0.3.4\", \"failureMessage\": \"\", \"exceptionClass\": \"\", \"trace\": \"\"}}, \"*\")"
      ],
      "text/plain": [
       "<IPython.core.display.Javascript object>"
      ]
     },
     "metadata": {},
     "output_type": "display_data"
    },
    {
     "data": {
      "text/markdown": [
       "<span style=\"color:#33cc33\">Correct:</span> \n",
       "\n",
       "Given that thre are so few missing values in the dataset, we'd expect imputation to perform better than dropping columns entirely.  However, we see that dropping columns performs slightly better!  While this can probably partially be attributed to noise in the dataset, another potential explanation is that the imputation method is not a great match to this dataset.  That is, maybe instead of filling in the mean value, it makes more sense to set every missing value to a value of 0, to fill in the most frequently encountered value, or to use some other method.  For instance, consider the `GarageYrBlt` column (which indicates the year that the garage was built).  It's likely that in some cases, a missing value could indicate a house that does not have a garage.  Does it make more sense to fill in the median value along each column in this case?  Or could we get better results by filling in the minimum value along each column?  It's not quite clear what's best in this case, but perhaps we can rule out some options immediately - for instance, setting missing values in this column to 0 is likely to yield horrible results!"
      ],
      "text/plain": [
       "Correct: \n",
       "\n",
       "Given that thre are so few missing values in the dataset, we'd expect imputation to perform better than dropping columns entirely.  However, we see that dropping columns performs slightly better!  While this can probably partially be attributed to noise in the dataset, another potential explanation is that the imputation method is not a great match to this dataset.  That is, maybe instead of filling in the mean value, it makes more sense to set every missing value to a value of 0, to fill in the most frequently encountered value, or to use some other method.  For instance, consider the `GarageYrBlt` column (which indicates the year that the garage was built).  It's likely that in some cases, a missing value could indicate a house that does not have a garage.  Does it make more sense to fill in the median value along each column in this case?  Or could we get better results by filling in the minimum value along each column?  It's not quite clear what's best in this case, but perhaps we can rule out some options immediately - for instance, setting missing values in this column to 0 is likely to yield horrible results!"
      ]
     },
     "metadata": {},
     "output_type": "display_data"
    }
   ],
   "source": [
    "# Check your answer (Run this code cell to receive credit!)\n",
    "step_3.b.check()"
   ]
  },
  {
   "cell_type": "markdown",
   "id": "3038751f",
   "metadata": {
    "papermill": {
     "duration": 0.012647,
     "end_time": "2024-10-22T07:26:39.422623",
     "exception": false,
     "start_time": "2024-10-22T07:26:39.409976",
     "status": "completed"
    },
    "tags": []
   },
   "source": [
    "# Step 4: Generate test predictions\n",
    "\n",
    "In this final step, you'll use any approach of your choosing to deal with missing values.  Once you've preprocessed the training and validation features, you'll train and evaluate a random forest model.  Then, you'll preprocess the test data before generating predictions that can be submitted to the competition!\n",
    "\n",
    "### Part A\n",
    "\n",
    "Use the next code cell to preprocess the training and validation data.  Set the preprocessed DataFrames to `final_X_train` and `final_X_valid`.  **You can use any approach of your choosing here!**  in order for this step to be marked as correct, you need only ensure:\n",
    "- the preprocessed DataFrames have the same number of columns,\n",
    "- the preprocessed DataFrames have no missing values, \n",
    "- `final_X_train` and `y_train` have the same number of rows, and\n",
    "- `final_X_valid` and `y_valid` have the same number of rows."
   ]
  },
  {
   "cell_type": "code",
   "execution_count": 17,
   "id": "00e6292c",
   "metadata": {
    "execution": {
     "iopub.execute_input": "2024-10-22T07:26:39.451353Z",
     "iopub.status.busy": "2024-10-22T07:26:39.450823Z",
     "iopub.status.idle": "2024-10-22T07:26:39.457398Z",
     "shell.execute_reply": "2024-10-22T07:26:39.455970Z"
    },
    "papermill": {
     "duration": 0.024683,
     "end_time": "2024-10-22T07:26:39.460399",
     "exception": false,
     "start_time": "2024-10-22T07:26:39.435716",
     "status": "completed"
    },
    "tags": []
   },
   "outputs": [],
   "source": [
    "#step_3.b.hint()"
   ]
  },
  {
   "cell_type": "code",
   "execution_count": 18,
   "id": "84752e8b",
   "metadata": {
    "execution": {
     "iopub.execute_input": "2024-10-22T07:26:39.488445Z",
     "iopub.status.busy": "2024-10-22T07:26:39.487888Z",
     "iopub.status.idle": "2024-10-22T07:26:39.521345Z",
     "shell.execute_reply": "2024-10-22T07:26:39.519629Z"
    },
    "papermill": {
     "duration": 0.051482,
     "end_time": "2024-10-22T07:26:39.524808",
     "exception": false,
     "start_time": "2024-10-22T07:26:39.473326",
     "status": "completed"
    },
    "tags": []
   },
   "outputs": [
    {
     "data": {
      "application/javascript": [
       "parent.postMessage({\"jupyterEvent\": \"custom.exercise_interaction\", \"data\": {\"outcomeType\": 1, \"valueTowardsCompletion\": 1.0, \"interactionType\": 1, \"questionType\": 2, \"questionId\": \"4.1_PredsCodeA\", \"learnToolsVersion\": \"0.3.4\", \"failureMessage\": \"\", \"exceptionClass\": \"\", \"trace\": \"\"}}, \"*\")"
      ],
      "text/plain": [
       "<IPython.core.display.Javascript object>"
      ]
     },
     "metadata": {},
     "output_type": "display_data"
    },
    {
     "data": {
      "text/markdown": [
       "<span style=\"color:#33cc33\">Correct</span>"
      ],
      "text/plain": [
       "Correct"
      ]
     },
     "metadata": {},
     "output_type": "display_data"
    }
   ],
   "source": [
    "# Preprocessed training and validation features\n",
    "imp = SimpleImputer()\n",
    "# imp = SimpleImputer(strategy = 'median')\n",
    "final_X_train = pd.DataFrame(imp.fit_transform(imputed_X_train))\n",
    "final_X_valid = pd.DataFrame(imp.transform(imputed_X_valid))\n",
    "\n",
    "final_X_train.columns=X_train.columns\n",
    "final_X_valid.columns=X_valid.columns\n",
    "\n",
    "# Check your answers\n",
    "step_4.a.check()"
   ]
  },
  {
   "cell_type": "code",
   "execution_count": 19,
   "id": "d93d1eb5",
   "metadata": {
    "execution": {
     "iopub.execute_input": "2024-10-22T07:26:39.555856Z",
     "iopub.status.busy": "2024-10-22T07:26:39.555343Z",
     "iopub.status.idle": "2024-10-22T07:26:39.561606Z",
     "shell.execute_reply": "2024-10-22T07:26:39.560037Z"
    },
    "papermill": {
     "duration": 0.024995,
     "end_time": "2024-10-22T07:26:39.564920",
     "exception": false,
     "start_time": "2024-10-22T07:26:39.539925",
     "status": "completed"
    },
    "tags": []
   },
   "outputs": [],
   "source": [
    "# Lines below will give you a hint or solution code\n",
    "#step_4.a.hint()\n",
    "#step_4.a.solution()"
   ]
  },
  {
   "cell_type": "markdown",
   "id": "01c66807",
   "metadata": {
    "papermill": {
     "duration": 0.013111,
     "end_time": "2024-10-22T07:26:39.592352",
     "exception": false,
     "start_time": "2024-10-22T07:26:39.579241",
     "status": "completed"
    },
    "tags": []
   },
   "source": [
    "Run the next code cell to train and evaluate a random forest model.  (*Note that we don't use the `score_dataset()` function above, because we will soon use the trained model to generate test predictions!*)"
   ]
  },
  {
   "cell_type": "code",
   "execution_count": 20,
   "id": "a0a25992",
   "metadata": {
    "execution": {
     "iopub.execute_input": "2024-10-22T07:26:39.621109Z",
     "iopub.status.busy": "2024-10-22T07:26:39.620517Z",
     "iopub.status.idle": "2024-10-22T07:26:41.323536Z",
     "shell.execute_reply": "2024-10-22T07:26:41.322108Z"
    },
    "papermill": {
     "duration": 1.720523,
     "end_time": "2024-10-22T07:26:41.326314",
     "exception": false,
     "start_time": "2024-10-22T07:26:39.605791",
     "status": "completed"
    },
    "tags": []
   },
   "outputs": [
    {
     "name": "stdout",
     "output_type": "stream",
     "text": [
      "MAE (Your approach):\n",
      "18062.894611872147\n"
     ]
    }
   ],
   "source": [
    "# Define and fit model\n",
    "model = RandomForestRegressor(n_estimators=100, random_state=0)\n",
    "model.fit(final_X_train, y_train)\n",
    "\n",
    "# Get validation predictions and MAE\n",
    "preds_valid = model.predict(final_X_valid)\n",
    "print(\"MAE (Your approach):\")\n",
    "print(mean_absolute_error(y_valid, preds_valid))"
   ]
  },
  {
   "cell_type": "markdown",
   "id": "7cf08db3",
   "metadata": {
    "papermill": {
     "duration": 0.012969,
     "end_time": "2024-10-22T07:26:41.352323",
     "exception": false,
     "start_time": "2024-10-22T07:26:41.339354",
     "status": "completed"
    },
    "tags": []
   },
   "source": [
    "### Part B\n",
    "\n",
    "Use the next code cell to preprocess your test data.  Make sure that you use a method that agrees with how you preprocessed the training and validation data, and set the preprocessed test features to `final_X_test`.\n",
    "\n",
    "Then, use the preprocessed test features and the trained model to generate test predictions in `preds_test`.\n",
    "\n",
    "In order for this step to be marked correct, you need only ensure:\n",
    "- the preprocessed test DataFrame has no missing values, and\n",
    "- `final_X_test` has the same number of rows as `X_test`."
   ]
  },
  {
   "cell_type": "code",
   "execution_count": 21,
   "id": "d62348b8",
   "metadata": {
    "execution": {
     "iopub.execute_input": "2024-10-22T07:26:41.381361Z",
     "iopub.status.busy": "2024-10-22T07:26:41.380796Z",
     "iopub.status.idle": "2024-10-22T07:26:41.446062Z",
     "shell.execute_reply": "2024-10-22T07:26:41.444670Z"
    },
    "papermill": {
     "duration": 0.08304,
     "end_time": "2024-10-22T07:26:41.448744",
     "exception": false,
     "start_time": "2024-10-22T07:26:41.365704",
     "status": "completed"
    },
    "tags": []
   },
   "outputs": [
    {
     "name": "stderr",
     "output_type": "stream",
     "text": [
      "/opt/conda/lib/python3.10/site-packages/sklearn/base.py:439: UserWarning: X does not have valid feature names, but RandomForestRegressor was fitted with feature names\n",
      "  warnings.warn(\n"
     ]
    },
    {
     "data": {
      "application/javascript": [
       "parent.postMessage({\"jupyterEvent\": \"custom.exercise_interaction\", \"data\": {\"outcomeType\": 1, \"valueTowardsCompletion\": 1.0, \"interactionType\": 1, \"questionType\": 2, \"questionId\": \"4.2_PredsCodeB\", \"learnToolsVersion\": \"0.3.4\", \"failureMessage\": \"\", \"exceptionClass\": \"\", \"trace\": \"\"}}, \"*\")"
      ],
      "text/plain": [
       "<IPython.core.display.Javascript object>"
      ]
     },
     "metadata": {},
     "output_type": "display_data"
    },
    {
     "data": {
      "text/markdown": [
       "<span style=\"color:#33cc33\">Correct</span>"
      ],
      "text/plain": [
       "Correct"
      ]
     },
     "metadata": {},
     "output_type": "display_data"
    }
   ],
   "source": [
    "# Fill in the line below: preprocess test data\n",
    "final_X_test = pd.DataFrame(imp.fit_transform(X_test))\n",
    "\n",
    "# Fill in the line below: get test predictions\n",
    "preds_test = model.predict(final_X_test)\n",
    "\n",
    "# Check your answers\n",
    "step_4.b.check()"
   ]
  },
  {
   "cell_type": "code",
   "execution_count": 22,
   "id": "c40fe752",
   "metadata": {
    "execution": {
     "iopub.execute_input": "2024-10-22T07:26:41.477769Z",
     "iopub.status.busy": "2024-10-22T07:26:41.477194Z",
     "iopub.status.idle": "2024-10-22T07:26:41.482816Z",
     "shell.execute_reply": "2024-10-22T07:26:41.481371Z"
    },
    "papermill": {
     "duration": 0.023485,
     "end_time": "2024-10-22T07:26:41.485669",
     "exception": false,
     "start_time": "2024-10-22T07:26:41.462184",
     "status": "completed"
    },
    "tags": []
   },
   "outputs": [],
   "source": [
    "# Lines below will give you a hint or solution code\n",
    "#step_4.b.hint()\n",
    "# step_4.b.solution()"
   ]
  },
  {
   "cell_type": "markdown",
   "id": "e8e44867",
   "metadata": {
    "papermill": {
     "duration": 0.013461,
     "end_time": "2024-10-22T07:26:41.513200",
     "exception": false,
     "start_time": "2024-10-22T07:26:41.499739",
     "status": "completed"
    },
    "tags": []
   },
   "source": [
    "Run the next code cell without changes to save your results to a CSV file that can be submitted directly to the competition."
   ]
  },
  {
   "cell_type": "code",
   "execution_count": 23,
   "id": "5e9b1245",
   "metadata": {
    "execution": {
     "iopub.execute_input": "2024-10-22T07:26:41.544786Z",
     "iopub.status.busy": "2024-10-22T07:26:41.543491Z",
     "iopub.status.idle": "2024-10-22T07:26:41.558805Z",
     "shell.execute_reply": "2024-10-22T07:26:41.557001Z"
    },
    "papermill": {
     "duration": 0.034583,
     "end_time": "2024-10-22T07:26:41.561814",
     "exception": false,
     "start_time": "2024-10-22T07:26:41.527231",
     "status": "completed"
    },
    "tags": []
   },
   "outputs": [],
   "source": [
    "# Save test predictions to file\n",
    "output = pd.DataFrame({'Id': X_test.index,\n",
    "                       'SalePrice': preds_test})\n",
    "output.to_csv('submission.csv', index=False)"
   ]
  },
  {
   "cell_type": "markdown",
   "id": "625b834b",
   "metadata": {
    "papermill": {
     "duration": 0.013716,
     "end_time": "2024-10-22T07:26:41.589194",
     "exception": false,
     "start_time": "2024-10-22T07:26:41.575478",
     "status": "completed"
    },
    "tags": []
   },
   "source": [
    "# Submit your results\n",
    "\n",
    "Once you have successfully completed Step 4, you're ready to submit your results to the leaderboard!  (_You also learned how to do this in the previous exercise.  If you need a reminder of how to do this, please use the instructions below._)  \n",
    "\n",
    "First, you'll need to join the competition if you haven't already.  So open a new window by clicking on [this link](https://www.kaggle.com/c/home-data-for-ml-course).  Then click on the **Join Competition** button.\n",
    "\n",
    "![join competition image](https://storage.googleapis.com/kaggle-media/learn/images/wLmFtH3.png)\n",
    "\n",
    "Next, follow the instructions below:\n",
    "1. Begin by clicking on the **Save Version** button in the top right corner of the window.  This will generate a pop-up window.  \n",
    "2. Ensure that the **Save and Run All** option is selected, and then click on the **Save** button.\n",
    "3. This generates a window in the bottom left corner of the notebook.  After it has finished running, click on the number to the right of the **Save Version** button.  This pulls up a list of versions on the right of the screen.  Click on the ellipsis **(...)** to the right of the most recent version, and select **Open in Viewer**.  This brings you into view mode of the same page. You will need to scroll down to get back to these instructions.\n",
    "4. Click on the **Data** tab near the top of the screen.  Then, click on the file you would like to submit, and click on the **Submit** button to submit your results to the leaderboard.\n",
    "\n",
    "You have now successfully submitted to the competition!\n",
    "\n",
    "If you want to keep working to improve your performance, select the **Edit** button in the top right of the screen. Then you can change your code and repeat the process. There's a lot of room to improve, and you will climb up the leaderboard as you work.\n",
    "\n",
    "\n",
    "# Keep going\n",
    "\n",
    "Move on to learn what **[categorical variables](https://www.kaggle.com/alexisbcook/categorical-variables)** are, along with how to incorporate them into your machine learning models.  Categorical variables are very common in real-world data, but you'll get an error if you try to plug them into your models without processing them first!"
   ]
  },
  {
   "cell_type": "markdown",
   "id": "1fbf4366",
   "metadata": {
    "papermill": {
     "duration": 0.013315,
     "end_time": "2024-10-22T07:26:41.616977",
     "exception": false,
     "start_time": "2024-10-22T07:26:41.603662",
     "status": "completed"
    },
    "tags": []
   },
   "source": [
    "---\n",
    "\n",
    "\n",
    "\n",
    "\n",
    "*Have questions or comments? Visit the [course discussion forum](https://www.kaggle.com/learn/intermediate-machine-learning/discussion) to chat with other learners.*"
   ]
  }
 ],
 "metadata": {
  "kaggle": {
   "accelerator": "none",
   "dataSources": [
    {
     "databundleVersionId": 111096,
     "sourceId": 10211,
     "sourceType": "competition"
    }
   ],
   "isGpuEnabled": false,
   "isInternetEnabled": false,
   "language": "python",
   "sourceType": "notebook"
  },
  "kernelspec": {
   "display_name": "Python 3",
   "language": "python",
   "name": "python3"
  },
  "language_info": {
   "codemirror_mode": {
    "name": "ipython",
    "version": 3
   },
   "file_extension": ".py",
   "mimetype": "text/x-python",
   "name": "python",
   "nbconvert_exporter": "python",
   "pygments_lexer": "ipython3",
   "version": "3.10.14"
  },
  "papermill": {
   "default_parameters": {},
   "duration": 13.789206,
   "end_time": "2024-10-22T07:26:42.355619",
   "environment_variables": {},
   "exception": null,
   "input_path": "__notebook__.ipynb",
   "output_path": "__notebook__.ipynb",
   "parameters": {},
   "start_time": "2024-10-22T07:26:28.566413",
   "version": "2.6.0"
  }
 },
 "nbformat": 4,
 "nbformat_minor": 5
}
