{
 "cells": [
  {
   "cell_type": "markdown",
   "id": "fda26707",
   "metadata": {
    "papermill": {
     "duration": 0.01337,
     "end_time": "2024-10-23T10:22:44.731187",
     "exception": false,
     "start_time": "2024-10-23T10:22:44.717817",
     "status": "completed"
    },
    "tags": []
   },
   "source": [
    "**This notebook is an exercise in the [Intermediate Machine Learning](https://www.kaggle.com/learn/intermediate-machine-learning) course.  You can reference the tutorial at [this link](https://www.kaggle.com/alexisbcook/categorical-variables).**\n",
    "\n",
    "---\n"
   ]
  },
  {
   "cell_type": "markdown",
   "id": "fc7c2984",
   "metadata": {
    "papermill": {
     "duration": 0.012358,
     "end_time": "2024-10-23T10:22:44.756844",
     "exception": false,
     "start_time": "2024-10-23T10:22:44.744486",
     "status": "completed"
    },
    "tags": []
   },
   "source": [
    "By encoding **categorical variables**, you'll obtain your best results thus far!\n",
    "\n",
    "# Setup\n",
    "\n",
    "The questions below will give you feedback on your work. Run the following cell to set up the feedback system."
   ]
  },
  {
   "cell_type": "code",
   "execution_count": 1,
   "id": "35354af9",
   "metadata": {
    "execution": {
     "iopub.execute_input": "2024-10-23T10:22:44.786610Z",
     "iopub.status.busy": "2024-10-23T10:22:44.786124Z",
     "iopub.status.idle": "2024-10-23T10:22:45.716998Z",
     "shell.execute_reply": "2024-10-23T10:22:45.715929Z"
    },
    "papermill": {
     "duration": 0.947217,
     "end_time": "2024-10-23T10:22:45.719609",
     "exception": false,
     "start_time": "2024-10-23T10:22:44.772392",
     "status": "completed"
    },
    "tags": []
   },
   "outputs": [
    {
     "name": "stdout",
     "output_type": "stream",
     "text": [
      "Setup Complete\n"
     ]
    }
   ],
   "source": [
    "# Set up code checking\n",
    "import os\n",
    "if not os.path.exists(\"../input/train.csv\"):\n",
    "    os.symlink(\"../input/home-data-for-ml-course/train.csv\", \"../input/train.csv\")  \n",
    "    os.symlink(\"../input/home-data-for-ml-course/test.csv\", \"../input/test.csv\") \n",
    "from learntools.core import binder\n",
    "binder.bind(globals())\n",
    "from learntools.ml_intermediate.ex3 import *\n",
    "print(\"Setup Complete\")"
   ]
  },
  {
   "cell_type": "markdown",
   "id": "65219c4b",
   "metadata": {
    "papermill": {
     "duration": 0.011963,
     "end_time": "2024-10-23T10:22:45.744299",
     "exception": false,
     "start_time": "2024-10-23T10:22:45.732336",
     "status": "completed"
    },
    "tags": []
   },
   "source": [
    "In this exercise, you will work with data from the [Housing Prices Competition for Kaggle Learn Users](https://www.kaggle.com/c/home-data-for-ml-course). \n",
    "\n",
    "![Ames Housing dataset image](https://storage.googleapis.com/kaggle-media/learn/images/lTJVG4e.png)\n",
    "\n",
    "Run the next code cell without changes to load the training and validation sets in `X_train`, `X_valid`, `y_train`, and `y_valid`.  The test set is loaded in `X_test`."
   ]
  },
  {
   "cell_type": "code",
   "execution_count": 2,
   "id": "ade47948",
   "metadata": {
    "execution": {
     "iopub.execute_input": "2024-10-23T10:22:45.771120Z",
     "iopub.status.busy": "2024-10-23T10:22:45.770558Z",
     "iopub.status.idle": "2024-10-23T10:22:47.256266Z",
     "shell.execute_reply": "2024-10-23T10:22:47.255302Z"
    },
    "papermill": {
     "duration": 1.502514,
     "end_time": "2024-10-23T10:22:47.259168",
     "exception": false,
     "start_time": "2024-10-23T10:22:45.756654",
     "status": "completed"
    },
    "tags": []
   },
   "outputs": [],
   "source": [
    "import pandas as pd\n",
    "from sklearn.model_selection import train_test_split\n",
    "\n",
    "# Read the data\n",
    "X = pd.read_csv('../input/train.csv', index_col='Id') \n",
    "X_test = pd.read_csv('../input/test.csv', index_col='Id')\n",
    "\n",
    "# Remove rows with missing target, separate target from predictors\n",
    "X.dropna(axis=0, subset=['SalePrice'], inplace=True)\n",
    "y = X.SalePrice\n",
    "X.drop(['SalePrice'], axis=1, inplace=True)\n",
    "\n",
    "# To keep things simple, we'll drop columns with missing values\n",
    "cols_with_missing = [col for col in X.columns if X[col].isnull().any()] \n",
    "X.drop(cols_with_missing, axis=1, inplace=True)\n",
    "X_test.drop(cols_with_missing, axis=1, inplace=True)\n",
    "\n",
    "# Break off validation set from training data\n",
    "X_train, X_valid, y_train, y_valid = train_test_split(X, y,\n",
    "                                                      train_size=0.8, test_size=0.2,\n",
    "                                                      random_state=0)"
   ]
  },
  {
   "cell_type": "markdown",
   "id": "0ea81d9a",
   "metadata": {
    "papermill": {
     "duration": 0.012188,
     "end_time": "2024-10-23T10:22:47.284094",
     "exception": false,
     "start_time": "2024-10-23T10:22:47.271906",
     "status": "completed"
    },
    "tags": []
   },
   "source": [
    "Use the next code cell to print the first five rows of the data."
   ]
  },
  {
   "cell_type": "code",
   "execution_count": 3,
   "id": "c7cbc0c8",
   "metadata": {
    "execution": {
     "iopub.execute_input": "2024-10-23T10:22:47.311484Z",
     "iopub.status.busy": "2024-10-23T10:22:47.310573Z",
     "iopub.status.idle": "2024-10-23T10:22:47.339709Z",
     "shell.execute_reply": "2024-10-23T10:22:47.338565Z"
    },
    "papermill": {
     "duration": 0.045426,
     "end_time": "2024-10-23T10:22:47.342049",
     "exception": false,
     "start_time": "2024-10-23T10:22:47.296623",
     "status": "completed"
    },
    "tags": []
   },
   "outputs": [
    {
     "data": {
      "text/html": [
       "<div>\n",
       "<style scoped>\n",
       "    .dataframe tbody tr th:only-of-type {\n",
       "        vertical-align: middle;\n",
       "    }\n",
       "\n",
       "    .dataframe tbody tr th {\n",
       "        vertical-align: top;\n",
       "    }\n",
       "\n",
       "    .dataframe thead th {\n",
       "        text-align: right;\n",
       "    }\n",
       "</style>\n",
       "<table border=\"1\" class=\"dataframe\">\n",
       "  <thead>\n",
       "    <tr style=\"text-align: right;\">\n",
       "      <th></th>\n",
       "      <th>MSSubClass</th>\n",
       "      <th>MSZoning</th>\n",
       "      <th>LotArea</th>\n",
       "      <th>Street</th>\n",
       "      <th>LotShape</th>\n",
       "      <th>LandContour</th>\n",
       "      <th>Utilities</th>\n",
       "      <th>LotConfig</th>\n",
       "      <th>LandSlope</th>\n",
       "      <th>Neighborhood</th>\n",
       "      <th>...</th>\n",
       "      <th>OpenPorchSF</th>\n",
       "      <th>EnclosedPorch</th>\n",
       "      <th>3SsnPorch</th>\n",
       "      <th>ScreenPorch</th>\n",
       "      <th>PoolArea</th>\n",
       "      <th>MiscVal</th>\n",
       "      <th>MoSold</th>\n",
       "      <th>YrSold</th>\n",
       "      <th>SaleType</th>\n",
       "      <th>SaleCondition</th>\n",
       "    </tr>\n",
       "    <tr>\n",
       "      <th>Id</th>\n",
       "      <th></th>\n",
       "      <th></th>\n",
       "      <th></th>\n",
       "      <th></th>\n",
       "      <th></th>\n",
       "      <th></th>\n",
       "      <th></th>\n",
       "      <th></th>\n",
       "      <th></th>\n",
       "      <th></th>\n",
       "      <th></th>\n",
       "      <th></th>\n",
       "      <th></th>\n",
       "      <th></th>\n",
       "      <th></th>\n",
       "      <th></th>\n",
       "      <th></th>\n",
       "      <th></th>\n",
       "      <th></th>\n",
       "      <th></th>\n",
       "      <th></th>\n",
       "    </tr>\n",
       "  </thead>\n",
       "  <tbody>\n",
       "    <tr>\n",
       "      <th>619</th>\n",
       "      <td>20</td>\n",
       "      <td>RL</td>\n",
       "      <td>11694</td>\n",
       "      <td>Pave</td>\n",
       "      <td>Reg</td>\n",
       "      <td>Lvl</td>\n",
       "      <td>AllPub</td>\n",
       "      <td>Inside</td>\n",
       "      <td>Gtl</td>\n",
       "      <td>NridgHt</td>\n",
       "      <td>...</td>\n",
       "      <td>108</td>\n",
       "      <td>0</td>\n",
       "      <td>0</td>\n",
       "      <td>260</td>\n",
       "      <td>0</td>\n",
       "      <td>0</td>\n",
       "      <td>7</td>\n",
       "      <td>2007</td>\n",
       "      <td>New</td>\n",
       "      <td>Partial</td>\n",
       "    </tr>\n",
       "    <tr>\n",
       "      <th>871</th>\n",
       "      <td>20</td>\n",
       "      <td>RL</td>\n",
       "      <td>6600</td>\n",
       "      <td>Pave</td>\n",
       "      <td>Reg</td>\n",
       "      <td>Lvl</td>\n",
       "      <td>AllPub</td>\n",
       "      <td>Inside</td>\n",
       "      <td>Gtl</td>\n",
       "      <td>NAmes</td>\n",
       "      <td>...</td>\n",
       "      <td>0</td>\n",
       "      <td>0</td>\n",
       "      <td>0</td>\n",
       "      <td>0</td>\n",
       "      <td>0</td>\n",
       "      <td>0</td>\n",
       "      <td>8</td>\n",
       "      <td>2009</td>\n",
       "      <td>WD</td>\n",
       "      <td>Normal</td>\n",
       "    </tr>\n",
       "    <tr>\n",
       "      <th>93</th>\n",
       "      <td>30</td>\n",
       "      <td>RL</td>\n",
       "      <td>13360</td>\n",
       "      <td>Pave</td>\n",
       "      <td>IR1</td>\n",
       "      <td>HLS</td>\n",
       "      <td>AllPub</td>\n",
       "      <td>Inside</td>\n",
       "      <td>Gtl</td>\n",
       "      <td>Crawfor</td>\n",
       "      <td>...</td>\n",
       "      <td>0</td>\n",
       "      <td>44</td>\n",
       "      <td>0</td>\n",
       "      <td>0</td>\n",
       "      <td>0</td>\n",
       "      <td>0</td>\n",
       "      <td>8</td>\n",
       "      <td>2009</td>\n",
       "      <td>WD</td>\n",
       "      <td>Normal</td>\n",
       "    </tr>\n",
       "    <tr>\n",
       "      <th>818</th>\n",
       "      <td>20</td>\n",
       "      <td>RL</td>\n",
       "      <td>13265</td>\n",
       "      <td>Pave</td>\n",
       "      <td>IR1</td>\n",
       "      <td>Lvl</td>\n",
       "      <td>AllPub</td>\n",
       "      <td>CulDSac</td>\n",
       "      <td>Gtl</td>\n",
       "      <td>Mitchel</td>\n",
       "      <td>...</td>\n",
       "      <td>59</td>\n",
       "      <td>0</td>\n",
       "      <td>0</td>\n",
       "      <td>0</td>\n",
       "      <td>0</td>\n",
       "      <td>0</td>\n",
       "      <td>7</td>\n",
       "      <td>2008</td>\n",
       "      <td>WD</td>\n",
       "      <td>Normal</td>\n",
       "    </tr>\n",
       "    <tr>\n",
       "      <th>303</th>\n",
       "      <td>20</td>\n",
       "      <td>RL</td>\n",
       "      <td>13704</td>\n",
       "      <td>Pave</td>\n",
       "      <td>IR1</td>\n",
       "      <td>Lvl</td>\n",
       "      <td>AllPub</td>\n",
       "      <td>Corner</td>\n",
       "      <td>Gtl</td>\n",
       "      <td>CollgCr</td>\n",
       "      <td>...</td>\n",
       "      <td>81</td>\n",
       "      <td>0</td>\n",
       "      <td>0</td>\n",
       "      <td>0</td>\n",
       "      <td>0</td>\n",
       "      <td>0</td>\n",
       "      <td>1</td>\n",
       "      <td>2006</td>\n",
       "      <td>WD</td>\n",
       "      <td>Normal</td>\n",
       "    </tr>\n",
       "  </tbody>\n",
       "</table>\n",
       "<p>5 rows × 60 columns</p>\n",
       "</div>"
      ],
      "text/plain": [
       "     MSSubClass MSZoning  LotArea Street LotShape LandContour Utilities  \\\n",
       "Id                                                                        \n",
       "619          20       RL    11694   Pave      Reg         Lvl    AllPub   \n",
       "871          20       RL     6600   Pave      Reg         Lvl    AllPub   \n",
       "93           30       RL    13360   Pave      IR1         HLS    AllPub   \n",
       "818          20       RL    13265   Pave      IR1         Lvl    AllPub   \n",
       "303          20       RL    13704   Pave      IR1         Lvl    AllPub   \n",
       "\n",
       "    LotConfig LandSlope Neighborhood  ... OpenPorchSF EnclosedPorch 3SsnPorch  \\\n",
       "Id                                    ...                                       \n",
       "619    Inside       Gtl      NridgHt  ...         108             0         0   \n",
       "871    Inside       Gtl        NAmes  ...           0             0         0   \n",
       "93     Inside       Gtl      Crawfor  ...           0            44         0   \n",
       "818   CulDSac       Gtl      Mitchel  ...          59             0         0   \n",
       "303    Corner       Gtl      CollgCr  ...          81             0         0   \n",
       "\n",
       "    ScreenPorch  PoolArea  MiscVal  MoSold  YrSold SaleType SaleCondition  \n",
       "Id                                                                         \n",
       "619         260         0        0       7    2007      New       Partial  \n",
       "871           0         0        0       8    2009       WD        Normal  \n",
       "93            0         0        0       8    2009       WD        Normal  \n",
       "818           0         0        0       7    2008       WD        Normal  \n",
       "303           0         0        0       1    2006       WD        Normal  \n",
       "\n",
       "[5 rows x 60 columns]"
      ]
     },
     "execution_count": 3,
     "metadata": {},
     "output_type": "execute_result"
    }
   ],
   "source": [
    "X_train.head()"
   ]
  },
  {
   "cell_type": "markdown",
   "id": "4e390335",
   "metadata": {
    "papermill": {
     "duration": 0.013146,
     "end_time": "2024-10-23T10:22:47.368289",
     "exception": false,
     "start_time": "2024-10-23T10:22:47.355143",
     "status": "completed"
    },
    "tags": []
   },
   "source": [
    "Notice that the dataset contains both numerical and categorical variables.  You'll need to encode the categorical data before training a model.\n",
    "\n",
    "To compare different models, you'll use the same `score_dataset()` function from the tutorial.  This function reports the [mean absolute error](https://en.wikipedia.org/wiki/Mean_absolute_error) (MAE) from a random forest model."
   ]
  },
  {
   "cell_type": "code",
   "execution_count": 4,
   "id": "6454b474",
   "metadata": {
    "execution": {
     "iopub.execute_input": "2024-10-23T10:22:47.396491Z",
     "iopub.status.busy": "2024-10-23T10:22:47.396089Z",
     "iopub.status.idle": "2024-10-23T10:22:47.729911Z",
     "shell.execute_reply": "2024-10-23T10:22:47.728585Z"
    },
    "papermill": {
     "duration": 0.350905,
     "end_time": "2024-10-23T10:22:47.732711",
     "exception": false,
     "start_time": "2024-10-23T10:22:47.381806",
     "status": "completed"
    },
    "tags": []
   },
   "outputs": [],
   "source": [
    "from sklearn.ensemble import RandomForestRegressor\n",
    "from sklearn.metrics import mean_absolute_error\n",
    "\n",
    "# function for comparing different approaches\n",
    "def score_dataset(X_train, X_valid, y_train, y_valid):\n",
    "    model = RandomForestRegressor(n_estimators=100, random_state=0)\n",
    "    model.fit(X_train, y_train)\n",
    "    preds = model.predict(X_valid)\n",
    "    return mean_absolute_error(y_valid, preds)"
   ]
  },
  {
   "cell_type": "markdown",
   "id": "2f0e79f7",
   "metadata": {
    "papermill": {
     "duration": 0.012658,
     "end_time": "2024-10-23T10:22:47.758205",
     "exception": false,
     "start_time": "2024-10-23T10:22:47.745547",
     "status": "completed"
    },
    "tags": []
   },
   "source": [
    "# Step 1: Drop columns with categorical data\n",
    "\n",
    "You'll get started with the most straightforward approach.  Use the code cell below to preprocess the data in `X_train` and `X_valid` to remove columns with categorical data.  Set the preprocessed DataFrames to `drop_X_train` and `drop_X_valid`, respectively.  "
   ]
  },
  {
   "cell_type": "code",
   "execution_count": 5,
   "id": "e70e5c68",
   "metadata": {
    "execution": {
     "iopub.execute_input": "2024-10-23T10:22:47.786500Z",
     "iopub.status.busy": "2024-10-23T10:22:47.785375Z",
     "iopub.status.idle": "2024-10-23T10:22:47.797497Z",
     "shell.execute_reply": "2024-10-23T10:22:47.796353Z"
    },
    "papermill": {
     "duration": 0.028754,
     "end_time": "2024-10-23T10:22:47.799882",
     "exception": false,
     "start_time": "2024-10-23T10:22:47.771128",
     "status": "completed"
    },
    "tags": []
   },
   "outputs": [
    {
     "data": {
      "application/javascript": [
       "parent.postMessage({\"jupyterEvent\": \"custom.exercise_interaction\", \"data\": {\"outcomeType\": 1, \"valueTowardsCompletion\": 0.5, \"interactionType\": 1, \"questionType\": 2, \"questionId\": \"1_Drop\", \"learnToolsVersion\": \"0.3.4\", \"failureMessage\": \"\", \"exceptionClass\": \"\", \"trace\": \"\"}}, \"*\")"
      ],
      "text/plain": [
       "<IPython.core.display.Javascript object>"
      ]
     },
     "metadata": {},
     "output_type": "display_data"
    },
    {
     "data": {
      "text/markdown": [
       "<span style=\"color:#33cc33\">Correct</span>"
      ],
      "text/plain": [
       "Correct"
      ]
     },
     "metadata": {},
     "output_type": "display_data"
    }
   ],
   "source": [
    "# Fill in the lines below: drop columns in training and validation data\n",
    "drop_X_train = X_train.select_dtypes(exclude = ['object'])\n",
    "drop_X_valid = X_valid.select_dtypes(exclude = ['object'])\n",
    "\n",
    "# Check your answers\n",
    "step_1.check()"
   ]
  },
  {
   "cell_type": "code",
   "execution_count": 6,
   "id": "e0928f4d",
   "metadata": {
    "execution": {
     "iopub.execute_input": "2024-10-23T10:22:47.827623Z",
     "iopub.status.busy": "2024-10-23T10:22:47.827189Z",
     "iopub.status.idle": "2024-10-23T10:22:47.832108Z",
     "shell.execute_reply": "2024-10-23T10:22:47.830976Z"
    },
    "papermill": {
     "duration": 0.02168,
     "end_time": "2024-10-23T10:22:47.834438",
     "exception": false,
     "start_time": "2024-10-23T10:22:47.812758",
     "status": "completed"
    },
    "tags": []
   },
   "outputs": [],
   "source": [
    "# Lines below will give you a hint or solution code\n",
    "#step_1.hint()\n",
    "#step_1.solution()"
   ]
  },
  {
   "cell_type": "markdown",
   "id": "c5fec98d",
   "metadata": {
    "papermill": {
     "duration": 0.012633,
     "end_time": "2024-10-23T10:22:47.860203",
     "exception": false,
     "start_time": "2024-10-23T10:22:47.847570",
     "status": "completed"
    },
    "tags": []
   },
   "source": [
    "Run the next code cell to get the MAE for this approach."
   ]
  },
  {
   "cell_type": "code",
   "execution_count": 7,
   "id": "9a404fc6",
   "metadata": {
    "execution": {
     "iopub.execute_input": "2024-10-23T10:22:47.888428Z",
     "iopub.status.busy": "2024-10-23T10:22:47.887381Z",
     "iopub.status.idle": "2024-10-23T10:22:49.193875Z",
     "shell.execute_reply": "2024-10-23T10:22:49.192681Z"
    },
    "papermill": {
     "duration": 1.323209,
     "end_time": "2024-10-23T10:22:49.196332",
     "exception": false,
     "start_time": "2024-10-23T10:22:47.873123",
     "status": "completed"
    },
    "tags": []
   },
   "outputs": [
    {
     "name": "stdout",
     "output_type": "stream",
     "text": [
      "MAE from Approach 1 (Drop categorical variables):\n",
      "17837.82570776256\n"
     ]
    }
   ],
   "source": [
    "print(\"MAE from Approach 1 (Drop categorical variables):\")\n",
    "print(score_dataset(drop_X_train, drop_X_valid, y_train, y_valid))"
   ]
  },
  {
   "cell_type": "markdown",
   "id": "c930ae0a",
   "metadata": {
    "papermill": {
     "duration": 0.01302,
     "end_time": "2024-10-23T10:22:49.222368",
     "exception": false,
     "start_time": "2024-10-23T10:22:49.209348",
     "status": "completed"
    },
    "tags": []
   },
   "source": [
    "Before jumping into ordinal encoding, we'll investigate the dataset.  Specifically, we'll look at the `'Condition2'` column.  The code cell below prints the unique entries in both the training and validation sets."
   ]
  },
  {
   "cell_type": "code",
   "execution_count": 8,
   "id": "dd61a9a5",
   "metadata": {
    "execution": {
     "iopub.execute_input": "2024-10-23T10:22:49.252006Z",
     "iopub.status.busy": "2024-10-23T10:22:49.251594Z",
     "iopub.status.idle": "2024-10-23T10:22:49.260651Z",
     "shell.execute_reply": "2024-10-23T10:22:49.259371Z"
    },
    "papermill": {
     "duration": 0.026275,
     "end_time": "2024-10-23T10:22:49.262999",
     "exception": false,
     "start_time": "2024-10-23T10:22:49.236724",
     "status": "completed"
    },
    "tags": []
   },
   "outputs": [
    {
     "name": "stdout",
     "output_type": "stream",
     "text": [
      "Unique values in 'Condition2' column in training data: ['Norm' 'PosA' 'Feedr' 'PosN' 'Artery' 'RRAe']\n",
      "\n",
      "Unique values in 'Condition2' column in validation data: ['Norm' 'RRAn' 'RRNn' 'Artery' 'Feedr' 'PosN']\n"
     ]
    }
   ],
   "source": [
    "print(\"Unique values in 'Condition2' column in training data:\", X_train['Condition2'].unique())\n",
    "print(\"\\nUnique values in 'Condition2' column in validation data:\", X_valid['Condition2'].unique())"
   ]
  },
  {
   "cell_type": "markdown",
   "id": "fcac81d5",
   "metadata": {
    "papermill": {
     "duration": 0.013264,
     "end_time": "2024-10-23T10:22:49.289635",
     "exception": false,
     "start_time": "2024-10-23T10:22:49.276371",
     "status": "completed"
    },
    "tags": []
   },
   "source": [
    "# Step 2: Ordinal encoding\n",
    "\n",
    "### Part A\n",
    "\n",
    "If you now write code to: \n",
    "- fit an ordinal encoder to the training data, and then \n",
    "- use it to transform both the training and validation data, \n",
    "\n",
    "you'll get an error.  Can you see why this is the case?  (_You'll need  to use the above output to answer this question._)"
   ]
  },
  {
   "cell_type": "code",
   "execution_count": 9,
   "id": "1cd94881",
   "metadata": {
    "execution": {
     "iopub.execute_input": "2024-10-23T10:22:49.319342Z",
     "iopub.status.busy": "2024-10-23T10:22:49.318888Z",
     "iopub.status.idle": "2024-10-23T10:22:49.329339Z",
     "shell.execute_reply": "2024-10-23T10:22:49.328334Z"
    },
    "papermill": {
     "duration": 0.028139,
     "end_time": "2024-10-23T10:22:49.331783",
     "exception": false,
     "start_time": "2024-10-23T10:22:49.303644",
     "status": "completed"
    },
    "tags": []
   },
   "outputs": [
    {
     "data": {
      "application/javascript": [
       "parent.postMessage({\"jupyterEvent\": \"custom.exercise_interaction\", \"data\": {\"outcomeType\": 1, \"valueTowardsCompletion\": 0.5, \"interactionType\": 1, \"questionType\": 4, \"questionId\": \"2.1_LabelA\", \"learnToolsVersion\": \"0.3.4\", \"failureMessage\": \"\", \"exceptionClass\": \"\", \"trace\": \"\"}}, \"*\")"
      ],
      "text/plain": [
       "<IPython.core.display.Javascript object>"
      ]
     },
     "metadata": {},
     "output_type": "display_data"
    },
    {
     "data": {
      "text/markdown": [
       "<span style=\"color:#33cc33\">Correct:</span> \n",
       "\n",
       "Fitting an ordinal encoder to a column in the training data creates a corresponding integer-valued label for each unique value **that appears in the training data**. In the case that the validation data contains values that don't also appear in the training data, the encoder will throw an error, because these values won't have an integer assigned to them.  Notice that the `'Condition2'` column in the validation data contains the values `'RRAn'` and `'RRNn'`, but these don't appear in the training data -- thus, if we try to use an ordinal encoder with scikit-learn, the code will throw an error."
      ],
      "text/plain": [
       "Correct: \n",
       "\n",
       "Fitting an ordinal encoder to a column in the training data creates a corresponding integer-valued label for each unique value **that appears in the training data**. In the case that the validation data contains values that don't also appear in the training data, the encoder will throw an error, because these values won't have an integer assigned to them.  Notice that the `'Condition2'` column in the validation data contains the values `'RRAn'` and `'RRNn'`, but these don't appear in the training data -- thus, if we try to use an ordinal encoder with scikit-learn, the code will throw an error."
      ]
     },
     "metadata": {},
     "output_type": "display_data"
    }
   ],
   "source": [
    "# Check your answer (Run this code cell to receive credit!)\n",
    "step_2.a.check()"
   ]
  },
  {
   "cell_type": "code",
   "execution_count": 10,
   "id": "fd801a06",
   "metadata": {
    "execution": {
     "iopub.execute_input": "2024-10-23T10:22:49.361040Z",
     "iopub.status.busy": "2024-10-23T10:22:49.360617Z",
     "iopub.status.idle": "2024-10-23T10:22:49.365407Z",
     "shell.execute_reply": "2024-10-23T10:22:49.364300Z"
    },
    "papermill": {
     "duration": 0.02213,
     "end_time": "2024-10-23T10:22:49.367588",
     "exception": false,
     "start_time": "2024-10-23T10:22:49.345458",
     "status": "completed"
    },
    "tags": []
   },
   "outputs": [],
   "source": [
    "#step_2.a.hint()"
   ]
  },
  {
   "cell_type": "markdown",
   "id": "69cd96a9",
   "metadata": {
    "papermill": {
     "duration": 0.01303,
     "end_time": "2024-10-23T10:22:49.394185",
     "exception": false,
     "start_time": "2024-10-23T10:22:49.381155",
     "status": "completed"
    },
    "tags": []
   },
   "source": [
    "This is a common problem that you'll encounter with real-world data, and there are many approaches to fixing this issue.  For instance, you can write a custom ordinal encoder to deal with new categories.  The simplest approach, however, is to drop the problematic categorical columns.  \n",
    "\n",
    "Run the code cell below to save the problematic columns to a Python list `bad_label_cols`.  Likewise, columns that can be safely ordinal encoded are stored in `good_label_cols`."
   ]
  },
  {
   "cell_type": "code",
   "execution_count": 11,
   "id": "8fb2cf6f",
   "metadata": {
    "execution": {
     "iopub.execute_input": "2024-10-23T10:22:49.423418Z",
     "iopub.status.busy": "2024-10-23T10:22:49.422617Z",
     "iopub.status.idle": "2024-10-23T10:22:49.439728Z",
     "shell.execute_reply": "2024-10-23T10:22:49.438576Z"
    },
    "papermill": {
     "duration": 0.035447,
     "end_time": "2024-10-23T10:22:49.443090",
     "exception": false,
     "start_time": "2024-10-23T10:22:49.407643",
     "status": "completed"
    },
    "tags": []
   },
   "outputs": [
    {
     "name": "stdout",
     "output_type": "stream",
     "text": [
      "Categorical columns that will be ordinal encoded: ['MSZoning', 'Street', 'LotShape', 'LandContour', 'Utilities', 'LotConfig', 'LandSlope', 'Neighborhood', 'Condition1', 'BldgType', 'HouseStyle', 'RoofStyle', 'Exterior1st', 'Exterior2nd', 'ExterQual', 'ExterCond', 'Foundation', 'Heating', 'HeatingQC', 'CentralAir', 'KitchenQual', 'PavedDrive', 'SaleType', 'SaleCondition']\n",
      "\n",
      "Categorical columns that will be dropped from the dataset: ['RoofMatl', 'Functional', 'Condition2']\n"
     ]
    }
   ],
   "source": [
    "# Categorical columns in the training data\n",
    "object_cols = [col for col in X_train.columns if X_train[col].dtype == \"object\"]\n",
    "\n",
    "# Columns that can be safely ordinal encoded\n",
    "good_label_cols = [col for col in object_cols if \n",
    "                   set(X_valid[col]).issubset(set(X_train[col]))]\n",
    "        \n",
    "# Problematic columns that will be dropped from the dataset\n",
    "bad_label_cols = list(set(object_cols)-set(good_label_cols))\n",
    "        \n",
    "print('Categorical columns that will be ordinal encoded:', good_label_cols)\n",
    "print('\\nCategorical columns that will be dropped from the dataset:', bad_label_cols)"
   ]
  },
  {
   "cell_type": "markdown",
   "id": "8fdccb1c",
   "metadata": {
    "papermill": {
     "duration": 0.013863,
     "end_time": "2024-10-23T10:22:49.471097",
     "exception": false,
     "start_time": "2024-10-23T10:22:49.457234",
     "status": "completed"
    },
    "tags": []
   },
   "source": [
    "### Part B\n",
    "\n",
    "Use the next code cell to ordinal encode the data in `X_train` and `X_valid`.  Set the preprocessed DataFrames to `label_X_train` and `label_X_valid`, respectively.  \n",
    "- We have provided code below to drop the categorical columns in `bad_label_cols` from the dataset. \n",
    "- You should ordinal encode the categorical columns in `good_label_cols`.  "
   ]
  },
  {
   "cell_type": "code",
   "execution_count": 12,
   "id": "6dccf0b1",
   "metadata": {
    "execution": {
     "iopub.execute_input": "2024-10-23T10:22:49.501218Z",
     "iopub.status.busy": "2024-10-23T10:22:49.500803Z",
     "iopub.status.idle": "2024-10-23T10:22:49.551294Z",
     "shell.execute_reply": "2024-10-23T10:22:49.550105Z"
    },
    "papermill": {
     "duration": 0.068667,
     "end_time": "2024-10-23T10:22:49.553753",
     "exception": false,
     "start_time": "2024-10-23T10:22:49.485086",
     "status": "completed"
    },
    "tags": []
   },
   "outputs": [
    {
     "data": {
      "application/javascript": [
       "parent.postMessage({\"jupyterEvent\": \"custom.exercise_interaction\", \"data\": {\"outcomeType\": 1, \"valueTowardsCompletion\": 0.5, \"interactionType\": 1, \"questionType\": 2, \"questionId\": \"2.2_LabelB\", \"learnToolsVersion\": \"0.3.4\", \"failureMessage\": \"\", \"exceptionClass\": \"\", \"trace\": \"\"}}, \"*\")"
      ],
      "text/plain": [
       "<IPython.core.display.Javascript object>"
      ]
     },
     "metadata": {},
     "output_type": "display_data"
    },
    {
     "data": {
      "text/markdown": [
       "<span style=\"color:#33cc33\">Correct</span>"
      ],
      "text/plain": [
       "Correct"
      ]
     },
     "metadata": {},
     "output_type": "display_data"
    }
   ],
   "source": [
    "from sklearn.preprocessing import OrdinalEncoder\n",
    "\n",
    "# Drop categorical columns that will not be encoded\n",
    "label_X_train = X_train.drop(bad_label_cols, axis=1)\n",
    "label_X_valid = X_valid.drop(bad_label_cols, axis=1)\n",
    "\n",
    "# Apply ordinal encoder \n",
    "enc = OrdinalEncoder()\n",
    "label_X_train[good_label_cols] = enc.fit_transform(X_train[good_label_cols])\n",
    "label_X_valid[good_label_cols] = enc.transform(X_valid[good_label_cols])\n",
    "    \n",
    "# Check your answer\n",
    "step_2.b.check()"
   ]
  },
  {
   "cell_type": "code",
   "execution_count": 13,
   "id": "39e7357c",
   "metadata": {
    "execution": {
     "iopub.execute_input": "2024-10-23T10:22:49.584445Z",
     "iopub.status.busy": "2024-10-23T10:22:49.583981Z",
     "iopub.status.idle": "2024-10-23T10:22:49.588834Z",
     "shell.execute_reply": "2024-10-23T10:22:49.587708Z"
    },
    "papermill": {
     "duration": 0.023315,
     "end_time": "2024-10-23T10:22:49.591254",
     "exception": false,
     "start_time": "2024-10-23T10:22:49.567939",
     "status": "completed"
    },
    "tags": []
   },
   "outputs": [],
   "source": [
    "# Lines below will give you a hint or solution code\n",
    "#step_2.b.hint()\n",
    "#step_2.b.solution()"
   ]
  },
  {
   "cell_type": "markdown",
   "id": "788e039f",
   "metadata": {
    "papermill": {
     "duration": 0.013789,
     "end_time": "2024-10-23T10:22:49.619377",
     "exception": false,
     "start_time": "2024-10-23T10:22:49.605588",
     "status": "completed"
    },
    "tags": []
   },
   "source": [
    "Run the next code cell to get the MAE for this approach."
   ]
  },
  {
   "cell_type": "code",
   "execution_count": 14,
   "id": "b1528fb4",
   "metadata": {
    "execution": {
     "iopub.execute_input": "2024-10-23T10:22:49.650421Z",
     "iopub.status.busy": "2024-10-23T10:22:49.649448Z",
     "iopub.status.idle": "2024-10-23T10:22:51.337111Z",
     "shell.execute_reply": "2024-10-23T10:22:51.335975Z"
    },
    "papermill": {
     "duration": 1.706004,
     "end_time": "2024-10-23T10:22:51.339715",
     "exception": false,
     "start_time": "2024-10-23T10:22:49.633711",
     "status": "completed"
    },
    "tags": []
   },
   "outputs": [
    {
     "name": "stdout",
     "output_type": "stream",
     "text": [
      "MAE from Approach 2 (Ordinal Encoding):\n",
      "17098.01649543379\n"
     ]
    }
   ],
   "source": [
    "print(\"MAE from Approach 2 (Ordinal Encoding):\") \n",
    "print(score_dataset(label_X_train, label_X_valid, y_train, y_valid))"
   ]
  },
  {
   "cell_type": "markdown",
   "id": "54d0c33f",
   "metadata": {
    "papermill": {
     "duration": 0.014308,
     "end_time": "2024-10-23T10:22:51.368960",
     "exception": false,
     "start_time": "2024-10-23T10:22:51.354652",
     "status": "completed"
    },
    "tags": []
   },
   "source": [
    "So far, you've tried two different approaches to dealing with categorical variables.  And, you've seen that encoding categorical data yields better results than removing columns from the dataset.\n",
    "\n",
    "Soon, you'll try one-hot encoding.  Before then, there's one additional topic we need to cover.  Begin by running the next code cell without changes.  "
   ]
  },
  {
   "cell_type": "code",
   "execution_count": 15,
   "id": "23d925a2",
   "metadata": {
    "execution": {
     "iopub.execute_input": "2024-10-23T10:22:51.400427Z",
     "iopub.status.busy": "2024-10-23T10:22:51.399445Z",
     "iopub.status.idle": "2024-10-23T10:22:51.414406Z",
     "shell.execute_reply": "2024-10-23T10:22:51.413320Z"
    },
    "papermill": {
     "duration": 0.033365,
     "end_time": "2024-10-23T10:22:51.416925",
     "exception": false,
     "start_time": "2024-10-23T10:22:51.383560",
     "status": "completed"
    },
    "tags": []
   },
   "outputs": [
    {
     "data": {
      "text/plain": [
       "[('Street', 2),\n",
       " ('Utilities', 2),\n",
       " ('CentralAir', 2),\n",
       " ('LandSlope', 3),\n",
       " ('PavedDrive', 3),\n",
       " ('LotShape', 4),\n",
       " ('LandContour', 4),\n",
       " ('ExterQual', 4),\n",
       " ('KitchenQual', 4),\n",
       " ('MSZoning', 5),\n",
       " ('LotConfig', 5),\n",
       " ('BldgType', 5),\n",
       " ('ExterCond', 5),\n",
       " ('HeatingQC', 5),\n",
       " ('Condition2', 6),\n",
       " ('RoofStyle', 6),\n",
       " ('Foundation', 6),\n",
       " ('Heating', 6),\n",
       " ('Functional', 6),\n",
       " ('SaleCondition', 6),\n",
       " ('RoofMatl', 7),\n",
       " ('HouseStyle', 8),\n",
       " ('Condition1', 9),\n",
       " ('SaleType', 9),\n",
       " ('Exterior1st', 15),\n",
       " ('Exterior2nd', 16),\n",
       " ('Neighborhood', 25)]"
      ]
     },
     "execution_count": 15,
     "metadata": {},
     "output_type": "execute_result"
    }
   ],
   "source": [
    "# Get number of unique entries in each column with categorical data\n",
    "object_nunique = list(map(lambda col: X_train[col].nunique(), object_cols))\n",
    "d = dict(zip(object_cols, object_nunique))\n",
    "\n",
    "# Print number of unique entries by column, in ascending order\n",
    "sorted(d.items(), key=lambda x: x[1])"
   ]
  },
  {
   "cell_type": "markdown",
   "id": "81031554",
   "metadata": {
    "papermill": {
     "duration": 0.014494,
     "end_time": "2024-10-23T10:22:51.446224",
     "exception": false,
     "start_time": "2024-10-23T10:22:51.431730",
     "status": "completed"
    },
    "tags": []
   },
   "source": [
    "# Step 3: Investigating cardinality\n",
    "\n",
    "### Part A\n",
    "\n",
    "The output above shows, for each column with categorical data, the number of unique values in the column.  For instance, the `'Street'` column in the training data has two unique values: `'Grvl'` and `'Pave'`, corresponding to a gravel road and a paved road, respectively.\n",
    "\n",
    "We refer to the number of unique entries of a categorical variable as the **cardinality** of that categorical variable.  For instance, the `'Street'` variable has cardinality 2.\n",
    "\n",
    "Use the output above to answer the questions below."
   ]
  },
  {
   "cell_type": "code",
   "execution_count": 16,
   "id": "33ae1649",
   "metadata": {
    "execution": {
     "iopub.execute_input": "2024-10-23T10:22:51.477451Z",
     "iopub.status.busy": "2024-10-23T10:22:51.477010Z",
     "iopub.status.idle": "2024-10-23T10:22:51.486607Z",
     "shell.execute_reply": "2024-10-23T10:22:51.485597Z"
    },
    "papermill": {
     "duration": 0.027921,
     "end_time": "2024-10-23T10:22:51.488987",
     "exception": false,
     "start_time": "2024-10-23T10:22:51.461066",
     "status": "completed"
    },
    "tags": []
   },
   "outputs": [
    {
     "data": {
      "application/javascript": [
       "parent.postMessage({\"jupyterEvent\": \"custom.exercise_interaction\", \"data\": {\"outcomeType\": 1, \"valueTowardsCompletion\": 0.5, \"interactionType\": 1, \"questionType\": 1, \"questionId\": \"3.1_CardinalityA\", \"learnToolsVersion\": \"0.3.4\", \"failureMessage\": \"\", \"exceptionClass\": \"\", \"trace\": \"\"}}, \"*\")"
      ],
      "text/plain": [
       "<IPython.core.display.Javascript object>"
      ]
     },
     "metadata": {},
     "output_type": "display_data"
    },
    {
     "data": {
      "text/markdown": [
       "<span style=\"color:#33cc33\">Correct</span>"
      ],
      "text/plain": [
       "Correct"
      ]
     },
     "metadata": {},
     "output_type": "display_data"
    }
   ],
   "source": [
    "# Fill in the line below: How many categorical variables in the training data\n",
    "# have cardinality greater than 10?\n",
    "high_cardinality_numcols = 3\n",
    "\n",
    "# Fill in the line below: How many columns are needed to one-hot encode the \n",
    "# 'Neighborhood' variable in the training data?\n",
    "num_cols_neighborhood = 25\n",
    "\n",
    "# Check your answers\n",
    "step_3.a.check()"
   ]
  },
  {
   "cell_type": "code",
   "execution_count": 17,
   "id": "58a537e4",
   "metadata": {
    "execution": {
     "iopub.execute_input": "2024-10-23T10:22:51.521259Z",
     "iopub.status.busy": "2024-10-23T10:22:51.520817Z",
     "iopub.status.idle": "2024-10-23T10:22:51.525325Z",
     "shell.execute_reply": "2024-10-23T10:22:51.524290Z"
    },
    "papermill": {
     "duration": 0.02336,
     "end_time": "2024-10-23T10:22:51.527636",
     "exception": false,
     "start_time": "2024-10-23T10:22:51.504276",
     "status": "completed"
    },
    "tags": []
   },
   "outputs": [],
   "source": [
    "# Lines below will give you a hint or solution code\n",
    "# step_3.a.hint()\n",
    "#step_3.a.solution()"
   ]
  },
  {
   "cell_type": "markdown",
   "id": "6f3ac93d",
   "metadata": {
    "papermill": {
     "duration": 0.014501,
     "end_time": "2024-10-23T10:22:51.557054",
     "exception": false,
     "start_time": "2024-10-23T10:22:51.542553",
     "status": "completed"
    },
    "tags": []
   },
   "source": [
    "### Part B\n",
    "\n",
    "For large datasets with many rows, one-hot encoding can greatly expand the size of the dataset.  For this reason, we typically will only one-hot encode columns with relatively low cardinality.  Then, high cardinality columns can either be dropped from the dataset, or we can use ordinal encoding.\n",
    "\n",
    "As an example, consider a dataset with 10,000 rows, and containing one categorical column with 100 unique entries.  \n",
    "- If this column is replaced with the corresponding one-hot encoding, how many entries are added to the dataset?  \n",
    "- If we instead replace the column with the ordinal encoding, how many entries are added?  \n",
    "\n",
    "Use your answers to fill in the lines below."
   ]
  },
  {
   "cell_type": "code",
   "execution_count": 18,
   "id": "285a3f16",
   "metadata": {
    "execution": {
     "iopub.execute_input": "2024-10-23T10:22:51.588672Z",
     "iopub.status.busy": "2024-10-23T10:22:51.587767Z",
     "iopub.status.idle": "2024-10-23T10:22:51.597780Z",
     "shell.execute_reply": "2024-10-23T10:22:51.596713Z"
    },
    "papermill": {
     "duration": 0.028479,
     "end_time": "2024-10-23T10:22:51.600169",
     "exception": false,
     "start_time": "2024-10-23T10:22:51.571690",
     "status": "completed"
    },
    "tags": []
   },
   "outputs": [
    {
     "data": {
      "application/javascript": [
       "parent.postMessage({\"jupyterEvent\": \"custom.exercise_interaction\", \"data\": {\"outcomeType\": 1, \"valueTowardsCompletion\": 0.5, \"interactionType\": 1, \"questionType\": 1, \"questionId\": \"3.2_CardinalityB\", \"learnToolsVersion\": \"0.3.4\", \"failureMessage\": \"\", \"exceptionClass\": \"\", \"trace\": \"\"}}, \"*\")"
      ],
      "text/plain": [
       "<IPython.core.display.Javascript object>"
      ]
     },
     "metadata": {},
     "output_type": "display_data"
    },
    {
     "data": {
      "text/markdown": [
       "<span style=\"color:#33cc33\">Correct</span>"
      ],
      "text/plain": [
       "Correct"
      ]
     },
     "metadata": {},
     "output_type": "display_data"
    }
   ],
   "source": [
    "# Fill in the line below: How many entries are added to the dataset by \n",
    "# replacing the column with a one-hot encoding?\n",
    "OH_entries_added = 100*10000-10000\n",
    "\n",
    "# Fill in the line below: How many entries are added to the dataset by\n",
    "# replacing the column with an ordinal encoding?\n",
    "label_entries_added = 0\n",
    "\n",
    "# Check your answers\n",
    "step_3.b.check()"
   ]
  },
  {
   "cell_type": "code",
   "execution_count": 19,
   "id": "6f61e279",
   "metadata": {
    "execution": {
     "iopub.execute_input": "2024-10-23T10:22:51.632086Z",
     "iopub.status.busy": "2024-10-23T10:22:51.631640Z",
     "iopub.status.idle": "2024-10-23T10:22:51.636954Z",
     "shell.execute_reply": "2024-10-23T10:22:51.635843Z"
    },
    "papermill": {
     "duration": 0.02402,
     "end_time": "2024-10-23T10:22:51.639442",
     "exception": false,
     "start_time": "2024-10-23T10:22:51.615422",
     "status": "completed"
    },
    "tags": []
   },
   "outputs": [],
   "source": [
    "# Lines below will give you a hint or solution code\n",
    "#step_3.b.hint()\n",
    "# step_3.b.solution()"
   ]
  },
  {
   "cell_type": "markdown",
   "id": "5e050ca8",
   "metadata": {
    "papermill": {
     "duration": 0.014925,
     "end_time": "2024-10-23T10:22:51.669961",
     "exception": false,
     "start_time": "2024-10-23T10:22:51.655036",
     "status": "completed"
    },
    "tags": []
   },
   "source": [
    "Next, you'll experiment with one-hot encoding.  But, instead of encoding all of the categorical variables in the dataset, you'll only create a one-hot encoding for columns with cardinality less than 10.\n",
    "\n",
    "Run the code cell below without changes to set `low_cardinality_cols` to a Python list containing the columns that will be one-hot encoded.  Likewise, `high_cardinality_cols` contains a list of categorical columns that will be dropped from the dataset."
   ]
  },
  {
   "cell_type": "code",
   "execution_count": 20,
   "id": "bf643a74",
   "metadata": {
    "execution": {
     "iopub.execute_input": "2024-10-23T10:22:51.702983Z",
     "iopub.status.busy": "2024-10-23T10:22:51.702138Z",
     "iopub.status.idle": "2024-10-23T10:22:51.714234Z",
     "shell.execute_reply": "2024-10-23T10:22:51.712984Z"
    },
    "papermill": {
     "duration": 0.031235,
     "end_time": "2024-10-23T10:22:51.716704",
     "exception": false,
     "start_time": "2024-10-23T10:22:51.685469",
     "status": "completed"
    },
    "tags": []
   },
   "outputs": [
    {
     "name": "stdout",
     "output_type": "stream",
     "text": [
      "Categorical columns that will be one-hot encoded: ['MSZoning', 'Street', 'LotShape', 'LandContour', 'Utilities', 'LotConfig', 'LandSlope', 'Condition1', 'Condition2', 'BldgType', 'HouseStyle', 'RoofStyle', 'RoofMatl', 'ExterQual', 'ExterCond', 'Foundation', 'Heating', 'HeatingQC', 'CentralAir', 'KitchenQual', 'Functional', 'PavedDrive', 'SaleType', 'SaleCondition']\n",
      "\n",
      "Categorical columns that will be dropped from the dataset: ['Exterior1st', 'Neighborhood', 'Exterior2nd']\n"
     ]
    }
   ],
   "source": [
    "# Columns that will be one-hot encoded\n",
    "low_cardinality_cols = [col for col in object_cols if X_train[col].nunique() < 10]\n",
    "\n",
    "# Columns that will be dropped from the dataset\n",
    "high_cardinality_cols = list(set(object_cols)-set(low_cardinality_cols))\n",
    "\n",
    "print('Categorical columns that will be one-hot encoded:', low_cardinality_cols)\n",
    "print('\\nCategorical columns that will be dropped from the dataset:', high_cardinality_cols)"
   ]
  },
  {
   "cell_type": "markdown",
   "id": "d1baf767",
   "metadata": {
    "papermill": {
     "duration": 0.015093,
     "end_time": "2024-10-23T10:22:51.747308",
     "exception": false,
     "start_time": "2024-10-23T10:22:51.732215",
     "status": "completed"
    },
    "tags": []
   },
   "source": [
    "# Step 4: One-hot encoding\n",
    "\n",
    "Use the next code cell to one-hot encode the data in `X_train` and `X_valid`.  Set the preprocessed DataFrames to `OH_X_train` and `OH_X_valid`, respectively.  \n",
    "- The full list of categorical columns in the dataset can be found in the Python list `object_cols`.\n",
    "- You should only one-hot encode the categorical columns in `low_cardinality_cols`.  All other categorical columns should be dropped from the dataset. "
   ]
  },
  {
   "cell_type": "code",
   "execution_count": 21,
   "id": "d00737f9",
   "metadata": {
    "execution": {
     "iopub.execute_input": "2024-10-23T10:22:51.779751Z",
     "iopub.status.busy": "2024-10-23T10:22:51.779284Z",
     "iopub.status.idle": "2024-10-23T10:22:51.831739Z",
     "shell.execute_reply": "2024-10-23T10:22:51.830702Z"
    },
    "papermill": {
     "duration": 0.071842,
     "end_time": "2024-10-23T10:22:51.834219",
     "exception": false,
     "start_time": "2024-10-23T10:22:51.762377",
     "status": "completed"
    },
    "tags": []
   },
   "outputs": [
    {
     "data": {
      "application/javascript": [
       "parent.postMessage({\"jupyterEvent\": \"custom.exercise_interaction\", \"data\": {\"outcomeType\": 1, \"valueTowardsCompletion\": 0.5, \"interactionType\": 1, \"questionType\": 2, \"questionId\": \"4_OneHot\", \"learnToolsVersion\": \"0.3.4\", \"failureMessage\": \"\", \"exceptionClass\": \"\", \"trace\": \"\"}}, \"*\")"
      ],
      "text/plain": [
       "<IPython.core.display.Javascript object>"
      ]
     },
     "metadata": {},
     "output_type": "display_data"
    },
    {
     "data": {
      "text/markdown": [
       "<span style=\"color:#33cc33\">Correct</span>"
      ],
      "text/plain": [
       "Correct"
      ]
     },
     "metadata": {},
     "output_type": "display_data"
    }
   ],
   "source": [
    "from sklearn.preprocessing import OneHotEncoder\n",
    "\n",
    "# Use as many lines of code as you need!\n",
    "enc = OneHotEncoder(handle_unknown='ignore', sparse_output=False)\n",
    "\n",
    "ecn_train= pd.DataFrame(enc.fit_transform(X_train[low_cardinality_cols]))\n",
    "ecn_valid= pd.DataFrame(enc.transform(X_valid[low_cardinality_cols]))\n",
    "\n",
    "ecn_train.index = X_train.index\n",
    "ecn_valid.index = X_valid.index\n",
    "\n",
    "num_X_train = X_train.drop(object_cols, axis=1)\n",
    "num_X_valid = X_valid.drop(object_cols, axis=1)\n",
    "\n",
    "OH_X_train = pd.concat([num_X_train, ecn_train], axis=1)\n",
    "OH_X_valid = pd.concat([num_X_valid, ecn_valid], axis=1)\n",
    "\n",
    "OH_X_train.columns = OH_X_train.columns.astype(str)\n",
    "OH_X_valid.columns = OH_X_valid.columns.astype(str)\n",
    "\n",
    "# Check your answer\n",
    "step_4.check()"
   ]
  },
  {
   "cell_type": "code",
   "execution_count": 22,
   "id": "35b5dc36",
   "metadata": {
    "execution": {
     "iopub.execute_input": "2024-10-23T10:22:51.868151Z",
     "iopub.status.busy": "2024-10-23T10:22:51.867163Z",
     "iopub.status.idle": "2024-10-23T10:22:51.871978Z",
     "shell.execute_reply": "2024-10-23T10:22:51.870917Z"
    },
    "papermill": {
     "duration": 0.024058,
     "end_time": "2024-10-23T10:22:51.874216",
     "exception": false,
     "start_time": "2024-10-23T10:22:51.850158",
     "status": "completed"
    },
    "tags": []
   },
   "outputs": [],
   "source": [
    "# Lines below will give you a hint or solution code\n",
    "#step_4.hint()\n",
    "# step_4.solution()"
   ]
  },
  {
   "cell_type": "markdown",
   "id": "c117be2f",
   "metadata": {
    "papermill": {
     "duration": 0.015881,
     "end_time": "2024-10-23T10:22:51.906032",
     "exception": false,
     "start_time": "2024-10-23T10:22:51.890151",
     "status": "completed"
    },
    "tags": []
   },
   "source": [
    "Run the next code cell to get the MAE for this approach."
   ]
  },
  {
   "cell_type": "code",
   "execution_count": 23,
   "id": "823a1e12",
   "metadata": {
    "execution": {
     "iopub.execute_input": "2024-10-23T10:22:51.938987Z",
     "iopub.status.busy": "2024-10-23T10:22:51.938512Z",
     "iopub.status.idle": "2024-10-23T10:22:54.053673Z",
     "shell.execute_reply": "2024-10-23T10:22:54.052364Z"
    },
    "papermill": {
     "duration": 2.134666,
     "end_time": "2024-10-23T10:22:54.056236",
     "exception": false,
     "start_time": "2024-10-23T10:22:51.921570",
     "status": "completed"
    },
    "tags": []
   },
   "outputs": [
    {
     "name": "stdout",
     "output_type": "stream",
     "text": [
      "MAE from Approach 3 (One-Hot Encoding):\n",
      "17525.345719178084\n"
     ]
    }
   ],
   "source": [
    "print(\"MAE from Approach 3 (One-Hot Encoding):\") \n",
    "print(score_dataset(OH_X_train, OH_X_valid, y_train, y_valid))"
   ]
  },
  {
   "cell_type": "markdown",
   "id": "a0870fc2",
   "metadata": {
    "papermill": {
     "duration": 0.015767,
     "end_time": "2024-10-23T10:22:54.088406",
     "exception": false,
     "start_time": "2024-10-23T10:22:54.072639",
     "status": "completed"
    },
    "tags": []
   },
   "source": [
    "# Generate test predictions and submit your results\n",
    "\n",
    "After you complete Step 4, if you'd like to use what you've learned to submit your results to the leaderboard, you'll need to preprocess the test data before generating predictions.\n",
    "\n",
    "**This step is completely optional, and you do not need to submit results to the leaderboard to successfully complete the exercise.**\n",
    "\n",
    "Check out the previous exercise if you need help with remembering how to [join the competition](https://www.kaggle.com/c/home-data-for-ml-course) or save your results to CSV.  Once you have generated a file with your results, follow the instructions below:\n",
    "1. Begin by clicking on the **Save Version** button in the top right corner of the window.  This will generate a pop-up window.  \n",
    "2. Ensure that the **Save and Run All** option is selected, and then click on the **Save** button.\n",
    "3. This generates a window in the bottom left corner of the notebook.  After it has finished running, click on the number to the right of the **Save Version** button.  This pulls up a list of versions on the right of the screen.  Click on the ellipsis **(...)** to the right of the most recent version, and select **Open in Viewer**.  This brings you into view mode of the same page. You will need to scroll down to get back to these instructions.\n",
    "4. Click on the **Data** tab near the top of the screen.  Then, click on the file you would like to submit, and click on the **Submit** button to submit your results to the leaderboard.\n",
    "\n",
    "You have now successfully submitted to the competition!\n",
    "\n",
    "If you want to keep working to improve your performance, select the **Edit** button in the top right of the screen. Then you can change your code and repeat the process. There's a lot of room to improve, and you will climb up the leaderboard as you work.\n"
   ]
  },
  {
   "cell_type": "code",
   "execution_count": 24,
   "id": "3d366fd1",
   "metadata": {
    "execution": {
     "iopub.execute_input": "2024-10-23T10:22:54.124091Z",
     "iopub.status.busy": "2024-10-23T10:22:54.122988Z",
     "iopub.status.idle": "2024-10-23T10:22:54.128153Z",
     "shell.execute_reply": "2024-10-23T10:22:54.126954Z"
    },
    "papermill": {
     "duration": 0.025405,
     "end_time": "2024-10-23T10:22:54.130532",
     "exception": false,
     "start_time": "2024-10-23T10:22:54.105127",
     "status": "completed"
    },
    "tags": []
   },
   "outputs": [],
   "source": [
    "# (Optional) Your code here"
   ]
  },
  {
   "cell_type": "markdown",
   "id": "96f2cbf7",
   "metadata": {
    "papermill": {
     "duration": 0.01631,
     "end_time": "2024-10-23T10:22:54.163412",
     "exception": false,
     "start_time": "2024-10-23T10:22:54.147102",
     "status": "completed"
    },
    "tags": []
   },
   "source": [
    "# Keep going\n",
    "\n",
    "With missing value handling and categorical encoding, your modeling process is getting complex. This complexity gets worse when you want to save your model to use in the future. The key to managing this complexity is something called **pipelines**. \n",
    "\n",
    "**[Learn to use pipelines](https://www.kaggle.com/alexisbcook/pipelines)** to preprocess datasets with categorical variables, missing values and any other messiness your data throws at you."
   ]
  },
  {
   "cell_type": "markdown",
   "id": "227475f2",
   "metadata": {
    "papermill": {
     "duration": 0.016019,
     "end_time": "2024-10-23T10:22:54.196028",
     "exception": false,
     "start_time": "2024-10-23T10:22:54.180009",
     "status": "completed"
    },
    "tags": []
   },
   "source": [
    "---\n",
    "\n",
    "\n",
    "\n",
    "\n",
    "*Have questions or comments? Visit the [course discussion forum](https://www.kaggle.com/learn/intermediate-machine-learning/discussion) to chat with other learners.*"
   ]
  }
 ],
 "metadata": {
  "kaggle": {
   "accelerator": "none",
   "dataSources": [
    {
     "databundleVersionId": 111096,
     "sourceId": 10211,
     "sourceType": "competition"
    }
   ],
   "isGpuEnabled": false,
   "isInternetEnabled": false,
   "language": "python",
   "sourceType": "notebook"
  },
  "kernelspec": {
   "display_name": "Python 3",
   "language": "python",
   "name": "python3"
  },
  "language_info": {
   "codemirror_mode": {
    "name": "ipython",
    "version": 3
   },
   "file_extension": ".py",
   "mimetype": "text/x-python",
   "name": "python",
   "nbconvert_exporter": "python",
   "pygments_lexer": "ipython3",
   "version": "3.10.14"
  },
  "papermill": {
   "default_parameters": {},
   "duration": 13.037397,
   "end_time": "2024-10-23T10:22:54.833482",
   "environment_variables": {},
   "exception": null,
   "input_path": "__notebook__.ipynb",
   "output_path": "__notebook__.ipynb",
   "parameters": {},
   "start_time": "2024-10-23T10:22:41.796085",
   "version": "2.6.0"
  }
 },
 "nbformat": 4,
 "nbformat_minor": 5
}
