{
 "cells": [
  {
   "cell_type": "markdown",
   "id": "3e122710",
   "metadata": {
    "papermill": {
     "duration": 0.00835,
     "end_time": "2024-10-24T10:26:30.698143",
     "exception": false,
     "start_time": "2024-10-24T10:26:30.689793",
     "status": "completed"
    },
    "tags": []
   },
   "source": [
    "**This notebook is an exercise in the [Intermediate Machine Learning](https://www.kaggle.com/learn/intermediate-machine-learning) course.  You can reference the tutorial at [this link](https://www.kaggle.com/alexisbcook/xgboost).**\n",
    "\n",
    "---\n"
   ]
  },
  {
   "cell_type": "markdown",
   "id": "41258026",
   "metadata": {
    "papermill": {
     "duration": 0.007194,
     "end_time": "2024-10-24T10:26:30.713110",
     "exception": false,
     "start_time": "2024-10-24T10:26:30.705916",
     "status": "completed"
    },
    "tags": []
   },
   "source": [
    "In this exercise, you will use your new knowledge to train a model with **gradient boosting**.\n",
    "\n",
    "# Setup\n",
    "\n",
    "The questions below will give you feedback on your work. Run the following cell to set up the feedback system."
   ]
  },
  {
   "cell_type": "code",
   "execution_count": 1,
   "id": "e945d797",
   "metadata": {
    "execution": {
     "iopub.execute_input": "2024-10-24T10:26:30.730114Z",
     "iopub.status.busy": "2024-10-24T10:26:30.728948Z",
     "iopub.status.idle": "2024-10-24T10:26:34.789379Z",
     "shell.execute_reply": "2024-10-24T10:26:34.788146Z"
    },
    "papermill": {
     "duration": 4.071971,
     "end_time": "2024-10-24T10:26:34.792084",
     "exception": false,
     "start_time": "2024-10-24T10:26:30.720113",
     "status": "completed"
    },
    "tags": []
   },
   "outputs": [
    {
     "name": "stdout",
     "output_type": "stream",
     "text": [
      "Setup Complete\n"
     ]
    }
   ],
   "source": [
    "# Set up code checking\n",
    "import os\n",
    "if not os.path.exists(\"../input/train.csv\"):\n",
    "    os.symlink(\"../input/home-data-for-ml-course/train.csv\", \"../input/train.csv\")  \n",
    "    os.symlink(\"../input/home-data-for-ml-course/test.csv\", \"../input/test.csv\") \n",
    "from learntools.core import binder\n",
    "binder.bind(globals())\n",
    "from learntools.ml_intermediate.ex6 import *\n",
    "print(\"Setup Complete\")"
   ]
  },
  {
   "cell_type": "markdown",
   "id": "e7204053",
   "metadata": {
    "papermill": {
     "duration": 0.006858,
     "end_time": "2024-10-24T10:26:34.806889",
     "exception": false,
     "start_time": "2024-10-24T10:26:34.800031",
     "status": "completed"
    },
    "tags": []
   },
   "source": [
    "You will work with the [Housing Prices Competition for Kaggle Learn Users](https://www.kaggle.com/c/home-data-for-ml-course) dataset from the previous exercise. \n",
    "\n",
    "![Ames Housing dataset image](https://storage.googleapis.com/kaggle-media/learn/images/lTJVG4e.png)\n",
    "\n",
    "Run the next code cell without changes to load the training and validation sets in `X_train`, `X_valid`, `y_train`, and `y_valid`.  The test set is loaded in `X_test`."
   ]
  },
  {
   "cell_type": "code",
   "execution_count": 2,
   "id": "9426b378",
   "metadata": {
    "execution": {
     "iopub.execute_input": "2024-10-24T10:26:34.824245Z",
     "iopub.status.busy": "2024-10-24T10:26:34.823662Z",
     "iopub.status.idle": "2024-10-24T10:26:35.042995Z",
     "shell.execute_reply": "2024-10-24T10:26:35.041547Z"
    },
    "papermill": {
     "duration": 0.23204,
     "end_time": "2024-10-24T10:26:35.046028",
     "exception": false,
     "start_time": "2024-10-24T10:26:34.813988",
     "status": "completed"
    },
    "tags": []
   },
   "outputs": [],
   "source": [
    "import pandas as pd\n",
    "from sklearn.model_selection import train_test_split\n",
    "\n",
    "# Read the data\n",
    "X = pd.read_csv('../input/train.csv', index_col='Id')\n",
    "X_test_full = pd.read_csv('../input/test.csv', index_col='Id')\n",
    "\n",
    "# Remove rows with missing target, separate target from predictors\n",
    "X.dropna(axis=0, subset=['SalePrice'], inplace=True)\n",
    "y = X.SalePrice              \n",
    "X.drop(['SalePrice'], axis=1, inplace=True)\n",
    "\n",
    "# Break off validation set from training data\n",
    "X_train_full, X_valid_full, y_train, y_valid = train_test_split(X, y, train_size=0.8, test_size=0.2,\n",
    "                                                                random_state=0)\n",
    "\n",
    "# \"Cardinality\" means the number of unique values in a column\n",
    "# Select categorical columns with relatively low cardinality (convenient but arbitrary)\n",
    "low_cardinality_cols = [cname for cname in X_train_full.columns if X_train_full[cname].nunique() < 10 and \n",
    "                        X_train_full[cname].dtype == \"object\"]\n",
    "\n",
    "# Select numeric columns\n",
    "numeric_cols = [cname for cname in X_train_full.columns if X_train_full[cname].dtype in ['int64', 'float64']]\n",
    "\n",
    "# Keep selected columns only\n",
    "my_cols = low_cardinality_cols + numeric_cols\n",
    "X_train = X_train_full[my_cols].copy()\n",
    "X_valid = X_valid_full[my_cols].copy()\n",
    "X_test = X_test_full[my_cols].copy()\n",
    "\n",
    "# One-hot encode the data (to shorten the code, we use pandas)\n",
    "X_train = pd.get_dummies(X_train)\n",
    "X_valid = pd.get_dummies(X_valid)\n",
    "X_test = pd.get_dummies(X_test)\n",
    "X_train, X_valid = X_train.align(X_valid, join='left', axis=1)\n",
    "X_train, X_test = X_train.align(X_test, join='left', axis=1)"
   ]
  },
  {
   "cell_type": "markdown",
   "id": "10d719d5",
   "metadata": {
    "papermill": {
     "duration": 0.006918,
     "end_time": "2024-10-24T10:26:35.060285",
     "exception": false,
     "start_time": "2024-10-24T10:26:35.053367",
     "status": "completed"
    },
    "tags": []
   },
   "source": [
    "# Step 1: Build model\n",
    "\n",
    "### Part A\n",
    "\n",
    "In this step, you'll build and train your first model with gradient boosting.\n",
    "\n",
    "- Begin by setting `my_model_1` to an XGBoost model.  Use the [XGBRegressor](https://xgboost.readthedocs.io/en/latest/python/python_api.html#xgboost.XGBRegressor) class, and set the random seed to 0 (`random_state=0`).  **Leave all other parameters as default.**\n",
    "- Then, fit the model to the training data in `X_train` and `y_train`."
   ]
  },
  {
   "cell_type": "code",
   "execution_count": 3,
   "id": "0de3fb77",
   "metadata": {
    "execution": {
     "iopub.execute_input": "2024-10-24T10:26:35.078184Z",
     "iopub.status.busy": "2024-10-24T10:26:35.076876Z",
     "iopub.status.idle": "2024-10-24T10:26:35.927935Z",
     "shell.execute_reply": "2024-10-24T10:26:35.926410Z"
    },
    "papermill": {
     "duration": 0.863834,
     "end_time": "2024-10-24T10:26:35.931278",
     "exception": false,
     "start_time": "2024-10-24T10:26:35.067444",
     "status": "completed"
    },
    "tags": []
   },
   "outputs": [
    {
     "data": {
      "application/javascript": [
       "parent.postMessage({\"jupyterEvent\": \"custom.exercise_interaction\", \"data\": {\"outcomeType\": 1, \"valueTowardsCompletion\": 0.5, \"interactionType\": 1, \"questionType\": 2, \"questionId\": \"1.1_Model1A\", \"learnToolsVersion\": \"0.3.4\", \"failureMessage\": \"\", \"exceptionClass\": \"\", \"trace\": \"\"}}, \"*\")"
      ],
      "text/plain": [
       "<IPython.core.display.Javascript object>"
      ]
     },
     "metadata": {},
     "output_type": "display_data"
    },
    {
     "data": {
      "text/markdown": [
       "<span style=\"color:#33cc33\">Correct</span>"
      ],
      "text/plain": [
       "Correct"
      ]
     },
     "metadata": {},
     "output_type": "display_data"
    }
   ],
   "source": [
    "from xgboost import XGBRegressor\n",
    "\n",
    "# Define the model\n",
    "my_model_1 = XGBRegressor(random_state=0)\n",
    "\n",
    "# Fit the model\n",
    "my_model_1.fit(X_train,y_train) # Your code here\n",
    "\n",
    "# Check your answer\n",
    "step_1.a.check()"
   ]
  },
  {
   "cell_type": "code",
   "execution_count": 4,
   "id": "3d9a37b6",
   "metadata": {
    "execution": {
     "iopub.execute_input": "2024-10-24T10:26:35.951625Z",
     "iopub.status.busy": "2024-10-24T10:26:35.951115Z",
     "iopub.status.idle": "2024-10-24T10:26:35.956788Z",
     "shell.execute_reply": "2024-10-24T10:26:35.955527Z"
    },
    "papermill": {
     "duration": 0.018166,
     "end_time": "2024-10-24T10:26:35.959507",
     "exception": false,
     "start_time": "2024-10-24T10:26:35.941341",
     "status": "completed"
    },
    "tags": []
   },
   "outputs": [],
   "source": [
    "# Lines below will give you a hint or solution code\n",
    "#step_1.a.hint()\n",
    "#step_1.a.solution()"
   ]
  },
  {
   "cell_type": "markdown",
   "id": "b7b0f38b",
   "metadata": {
    "papermill": {
     "duration": 0.007823,
     "end_time": "2024-10-24T10:26:35.975920",
     "exception": false,
     "start_time": "2024-10-24T10:26:35.968097",
     "status": "completed"
    },
    "tags": []
   },
   "source": [
    "### Part B\n",
    "\n",
    "Set `predictions_1` to the model's predictions for the validation data.  Recall that the validation features are stored in `X_valid`."
   ]
  },
  {
   "cell_type": "code",
   "execution_count": 5,
   "id": "b79c96ab",
   "metadata": {
    "execution": {
     "iopub.execute_input": "2024-10-24T10:26:35.998577Z",
     "iopub.status.busy": "2024-10-24T10:26:35.997409Z",
     "iopub.status.idle": "2024-10-24T10:26:36.063652Z",
     "shell.execute_reply": "2024-10-24T10:26:36.062458Z"
    },
    "papermill": {
     "duration": 0.081022,
     "end_time": "2024-10-24T10:26:36.067070",
     "exception": false,
     "start_time": "2024-10-24T10:26:35.986048",
     "status": "completed"
    },
    "tags": []
   },
   "outputs": [
    {
     "data": {
      "application/javascript": [
       "parent.postMessage({\"jupyterEvent\": \"custom.exercise_interaction\", \"data\": {\"outcomeType\": 1, \"valueTowardsCompletion\": 0.5, \"interactionType\": 1, \"questionType\": 2, \"questionId\": \"1.2_Model1B\", \"learnToolsVersion\": \"0.3.4\", \"failureMessage\": \"\", \"exceptionClass\": \"\", \"trace\": \"\"}}, \"*\")"
      ],
      "text/plain": [
       "<IPython.core.display.Javascript object>"
      ]
     },
     "metadata": {},
     "output_type": "display_data"
    },
    {
     "data": {
      "text/markdown": [
       "<span style=\"color:#33cc33\">Correct</span>"
      ],
      "text/plain": [
       "Correct"
      ]
     },
     "metadata": {},
     "output_type": "display_data"
    }
   ],
   "source": [
    "from sklearn.metrics import mean_absolute_error\n",
    "\n",
    "# Get predictions\n",
    "predictions_1 = my_model_1.predict(X_valid) # Your code here\n",
    "\n",
    "# Check your answer\n",
    "step_1.b.check()"
   ]
  },
  {
   "cell_type": "code",
   "execution_count": 6,
   "id": "78c19c58",
   "metadata": {
    "execution": {
     "iopub.execute_input": "2024-10-24T10:26:36.088952Z",
     "iopub.status.busy": "2024-10-24T10:26:36.088392Z",
     "iopub.status.idle": "2024-10-24T10:26:36.094369Z",
     "shell.execute_reply": "2024-10-24T10:26:36.092965Z"
    },
    "papermill": {
     "duration": 0.018659,
     "end_time": "2024-10-24T10:26:36.096981",
     "exception": false,
     "start_time": "2024-10-24T10:26:36.078322",
     "status": "completed"
    },
    "tags": []
   },
   "outputs": [],
   "source": [
    "# Lines below will give you a hint or solution code\n",
    "#step_1.b.hint()\n",
    "#step_1.b.solution()"
   ]
  },
  {
   "cell_type": "markdown",
   "id": "909677f2",
   "metadata": {
    "papermill": {
     "duration": 0.008114,
     "end_time": "2024-10-24T10:26:36.113283",
     "exception": false,
     "start_time": "2024-10-24T10:26:36.105169",
     "status": "completed"
    },
    "tags": []
   },
   "source": [
    "### Part C\n",
    "\n",
    "Finally, use the `mean_absolute_error()` function to calculate the mean absolute error (MAE) corresponding to the predictions for the validation set.  Recall that the labels for the validation data are stored in `y_valid`."
   ]
  },
  {
   "cell_type": "code",
   "execution_count": 7,
   "id": "9ee9f7f4",
   "metadata": {
    "execution": {
     "iopub.execute_input": "2024-10-24T10:26:36.132313Z",
     "iopub.status.busy": "2024-10-24T10:26:36.131794Z",
     "iopub.status.idle": "2024-10-24T10:26:36.145711Z",
     "shell.execute_reply": "2024-10-24T10:26:36.144386Z"
    },
    "papermill": {
     "duration": 0.027143,
     "end_time": "2024-10-24T10:26:36.148882",
     "exception": false,
     "start_time": "2024-10-24T10:26:36.121739",
     "status": "completed"
    },
    "tags": []
   },
   "outputs": [
    {
     "data": {
      "application/javascript": [
       "parent.postMessage({\"jupyterEvent\": \"custom.exercise_interaction\", \"data\": {\"outcomeType\": 1, \"valueTowardsCompletion\": 0.5, \"interactionType\": 1, \"questionType\": 2, \"questionId\": \"1.3_Model1C\", \"learnToolsVersion\": \"0.3.4\", \"failureMessage\": \"\", \"exceptionClass\": \"\", \"trace\": \"\"}}, \"*\")"
      ],
      "text/plain": [
       "<IPython.core.display.Javascript object>"
      ]
     },
     "metadata": {},
     "output_type": "display_data"
    },
    {
     "data": {
      "text/markdown": [
       "<span style=\"color:#33cc33\">Correct</span>"
      ],
      "text/plain": [
       "Correct"
      ]
     },
     "metadata": {},
     "output_type": "display_data"
    }
   ],
   "source": [
    "# Calculate MAE\n",
    "mae_1 = mean_absolute_error(predictions_1,y_valid) # Your code here\n",
    "\n",
    "# Uncomment to print MAE\n",
    "# print(\"Mean Absolute Error:\" , mae_1)\n",
    "\n",
    "# Check your answer\n",
    "step_1.c.check()"
   ]
  },
  {
   "cell_type": "code",
   "execution_count": 8,
   "id": "c96fe3de",
   "metadata": {
    "execution": {
     "iopub.execute_input": "2024-10-24T10:26:36.168260Z",
     "iopub.status.busy": "2024-10-24T10:26:36.167798Z",
     "iopub.status.idle": "2024-10-24T10:26:36.173383Z",
     "shell.execute_reply": "2024-10-24T10:26:36.172208Z"
    },
    "papermill": {
     "duration": 0.019301,
     "end_time": "2024-10-24T10:26:36.176423",
     "exception": false,
     "start_time": "2024-10-24T10:26:36.157122",
     "status": "completed"
    },
    "tags": []
   },
   "outputs": [],
   "source": [
    "# Lines below will give you a hint or solution code\n",
    "#step_1.c.hint()\n",
    "#step_1.c.solution()"
   ]
  },
  {
   "cell_type": "markdown",
   "id": "24d83d99",
   "metadata": {
    "papermill": {
     "duration": 0.008161,
     "end_time": "2024-10-24T10:26:36.192862",
     "exception": false,
     "start_time": "2024-10-24T10:26:36.184701",
     "status": "completed"
    },
    "tags": []
   },
   "source": [
    "# Step 2: Improve the model\n",
    "\n",
    "Now that you've trained a default model as baseline, it's time to tinker with the parameters, to see if you can get better performance!\n",
    "- Begin by setting `my_model_2` to an XGBoost model, using the [XGBRegressor](https://xgboost.readthedocs.io/en/latest/python/python_api.html#xgboost.XGBRegressor) class.  Use what you learned in the previous tutorial to figure out how to change the default parameters (like `n_estimators` and `learning_rate`) to get better results.\n",
    "- Then, fit the model to the training data in `X_train` and `y_train`.\n",
    "- Set `predictions_2` to the model's predictions for the validation data.  Recall that the validation features are stored in `X_valid`.\n",
    "- Finally, use the `mean_absolute_error()` function to calculate the mean absolute error (MAE) corresponding to the predictions on the validation set.  Recall that the labels for the validation data are stored in `y_valid`.\n",
    "\n",
    "In order for this step to be marked correct, your model in `my_model_2` must attain lower MAE than the model in `my_model_1`. "
   ]
  },
  {
   "cell_type": "code",
   "execution_count": 9,
   "id": "d0d87459",
   "metadata": {
    "execution": {
     "iopub.execute_input": "2024-10-24T10:26:36.211900Z",
     "iopub.status.busy": "2024-10-24T10:26:36.211431Z",
     "iopub.status.idle": "2024-10-24T10:26:38.584078Z",
     "shell.execute_reply": "2024-10-24T10:26:38.582951Z"
    },
    "papermill": {
     "duration": 2.385567,
     "end_time": "2024-10-24T10:26:38.586693",
     "exception": false,
     "start_time": "2024-10-24T10:26:36.201126",
     "status": "completed"
    },
    "tags": []
   },
   "outputs": [
    {
     "name": "stdout",
     "output_type": "stream",
     "text": [
      "Mean Absolute Error: 17101.580024614726\n"
     ]
    },
    {
     "data": {
      "application/javascript": [
       "parent.postMessage({\"jupyterEvent\": \"custom.exercise_interaction\", \"data\": {\"outcomeType\": 1, \"valueTowardsCompletion\": 0.5, \"interactionType\": 1, \"questionType\": 2, \"questionId\": \"2_Model2\", \"learnToolsVersion\": \"0.3.4\", \"failureMessage\": \"\", \"exceptionClass\": \"\", \"trace\": \"\"}}, \"*\")"
      ],
      "text/plain": [
       "<IPython.core.display.Javascript object>"
      ]
     },
     "metadata": {},
     "output_type": "display_data"
    },
    {
     "data": {
      "text/markdown": [
       "<span style=\"color:#33cc33\">Correct</span>"
      ],
      "text/plain": [
       "Correct"
      ]
     },
     "metadata": {},
     "output_type": "display_data"
    }
   ],
   "source": [
    "# Define the model\n",
    "my_model_2 = XGBRegressor(n_estimators=500, learning_rate=0.05)\n",
    "\n",
    "# Fit the model\n",
    "my_model_2.fit(X_train,y_train)\n",
    "\n",
    "# Get predictions\n",
    "predictions_2 = my_model_2.predict(X_valid)\n",
    "\n",
    "# Calculate MAE\n",
    "mae_2 = mean_absolute_error(predictions_2,y_valid)\n",
    "\n",
    "# Uncomment to print MAE\n",
    "print(\"Mean Absolute Error:\" , mae_2)\n",
    "\n",
    "# Check your answer\n",
    "step_2.check()"
   ]
  },
  {
   "cell_type": "code",
   "execution_count": 10,
   "id": "69520113",
   "metadata": {
    "execution": {
     "iopub.execute_input": "2024-10-24T10:26:38.606848Z",
     "iopub.status.busy": "2024-10-24T10:26:38.605651Z",
     "iopub.status.idle": "2024-10-24T10:26:38.611032Z",
     "shell.execute_reply": "2024-10-24T10:26:38.609786Z"
    },
    "papermill": {
     "duration": 0.018503,
     "end_time": "2024-10-24T10:26:38.613851",
     "exception": false,
     "start_time": "2024-10-24T10:26:38.595348",
     "status": "completed"
    },
    "tags": []
   },
   "outputs": [],
   "source": [
    "# Lines below will give you a hint or solution code\n",
    "#step_2.hint()\n",
    "# step_2.solution()"
   ]
  },
  {
   "cell_type": "markdown",
   "id": "da6b7645",
   "metadata": {
    "papermill": {
     "duration": 0.008598,
     "end_time": "2024-10-24T10:26:38.631431",
     "exception": false,
     "start_time": "2024-10-24T10:26:38.622833",
     "status": "completed"
    },
    "tags": []
   },
   "source": [
    "# Step 3: Break the model\n",
    "\n",
    "In this step, you will create a model that performs worse than the original model in Step 1.  This will help you to develop your intuition for how to set parameters.  You might even find that you accidentally get better performance, which is ultimately a nice problem to have and a valuable learning experience!\n",
    "- Begin by setting `my_model_3` to an XGBoost model, using the [XGBRegressor](https://xgboost.readthedocs.io/en/latest/python/python_api.html#xgboost.XGBRegressor) class.  Use what you learned in the previous tutorial to figure out how to change the default parameters (like `n_estimators` and `learning_rate`) to design a model to get high MAE.\n",
    "- Then, fit the model to the training data in `X_train` and `y_train`.\n",
    "- Set `predictions_3` to the model's predictions for the validation data.  Recall that the validation features are stored in `X_valid`.\n",
    "- Finally, use the `mean_absolute_error()` function to calculate the mean absolute error (MAE) corresponding to the predictions on the validation set.  Recall that the labels for the validation data are stored in `y_valid`.\n",
    "\n",
    "In order for this step to be marked correct, your model in `my_model_3` must attain higher MAE than the model in `my_model_1`. "
   ]
  },
  {
   "cell_type": "code",
   "execution_count": 11,
   "id": "5c31c186",
   "metadata": {
    "execution": {
     "iopub.execute_input": "2024-10-24T10:26:38.650587Z",
     "iopub.status.busy": "2024-10-24T10:26:38.650169Z",
     "iopub.status.idle": "2024-10-24T10:26:45.480790Z",
     "shell.execute_reply": "2024-10-24T10:26:45.473893Z"
    },
    "papermill": {
     "duration": 6.846505,
     "end_time": "2024-10-24T10:26:45.486574",
     "exception": false,
     "start_time": "2024-10-24T10:26:38.640069",
     "status": "completed"
    },
    "tags": []
   },
   "outputs": [
    {
     "name": "stdout",
     "output_type": "stream",
     "text": [
      "Mean Absolute Error: 25760.03898223459\n"
     ]
    },
    {
     "data": {
      "application/javascript": [
       "parent.postMessage({\"jupyterEvent\": \"custom.exercise_interaction\", \"data\": {\"outcomeType\": 1, \"valueTowardsCompletion\": 0.5, \"interactionType\": 1, \"questionType\": 2, \"questionId\": \"3_Model3\", \"learnToolsVersion\": \"0.3.4\", \"failureMessage\": \"\", \"exceptionClass\": \"\", \"trace\": \"\"}}, \"*\")"
      ],
      "text/plain": [
       "<IPython.core.display.Javascript object>"
      ]
     },
     "metadata": {},
     "output_type": "display_data"
    },
    {
     "data": {
      "text/markdown": [
       "<span style=\"color:#33cc33\">Correct</span>"
      ],
      "text/plain": [
       "Correct"
      ]
     },
     "metadata": {},
     "output_type": "display_data"
    }
   ],
   "source": [
    "# Define the model\n",
    "my_model_3 = XGBRegressor(n_estimators=1200, learning_rate=0.001)\n",
    "\n",
    "# Fit the model\n",
    "my_model_3.fit(X_train,y_train)\n",
    "\n",
    "# Get predictions\n",
    "predictions_3 = my_model_3.predict(X_valid)\n",
    "# Calculate MAE\n",
    "mae_3 = mean_absolute_error(predictions_3,y_valid)\n",
    "\n",
    "# Uncomment to print MAE\n",
    "print(\"Mean Absolute Error:\" , mae_3)\n",
    "\n",
    "# Check your answer\n",
    "step_3.check()"
   ]
  },
  {
   "cell_type": "code",
   "execution_count": 12,
   "id": "16a5203f",
   "metadata": {
    "execution": {
     "iopub.execute_input": "2024-10-24T10:26:45.518322Z",
     "iopub.status.busy": "2024-10-24T10:26:45.516712Z",
     "iopub.status.idle": "2024-10-24T10:26:45.524799Z",
     "shell.execute_reply": "2024-10-24T10:26:45.523009Z"
    },
    "papermill": {
     "duration": 0.028087,
     "end_time": "2024-10-24T10:26:45.528729",
     "exception": false,
     "start_time": "2024-10-24T10:26:45.500642",
     "status": "completed"
    },
    "tags": []
   },
   "outputs": [],
   "source": [
    "# Lines below will give you a hint or solution code\n",
    "#step_3.hint()\n",
    "#step_3.solution()"
   ]
  },
  {
   "cell_type": "markdown",
   "id": "8c88bc0e",
   "metadata": {
    "papermill": {
     "duration": 0.01302,
     "end_time": "2024-10-24T10:26:45.553957",
     "exception": false,
     "start_time": "2024-10-24T10:26:45.540937",
     "status": "completed"
    },
    "tags": []
   },
   "source": [
    "# Keep going\n",
    "\n",
    "Continue to learn about **[data leakage](https://www.kaggle.com/alexisbcook/data-leakage)**.  This is an important issue for a data scientist to understand, and it has the potential to ruin your models in subtle and dangerous ways!"
   ]
  },
  {
   "cell_type": "markdown",
   "id": "683d73fb",
   "metadata": {
    "papermill": {
     "duration": 0.010279,
     "end_time": "2024-10-24T10:26:45.578288",
     "exception": false,
     "start_time": "2024-10-24T10:26:45.568009",
     "status": "completed"
    },
    "tags": []
   },
   "source": [
    "---\n",
    "\n",
    "\n",
    "\n",
    "\n",
    "*Have questions or comments? Visit the [course discussion forum](https://www.kaggle.com/learn/intermediate-machine-learning/discussion) to chat with other learners.*"
   ]
  }
 ],
 "metadata": {
  "kaggle": {
   "accelerator": "none",
   "dataSources": [
    {
     "databundleVersionId": 111096,
     "sourceId": 10211,
     "sourceType": "competition"
    }
   ],
   "isGpuEnabled": false,
   "isInternetEnabled": false,
   "language": "python",
   "sourceType": "notebook"
  },
  "kernelspec": {
   "display_name": "Python 3",
   "language": "python",
   "name": "python3"
  },
  "language_info": {
   "codemirror_mode": {
    "name": "ipython",
    "version": 3
   },
   "file_extension": ".py",
   "mimetype": "text/x-python",
   "name": "python",
   "nbconvert_exporter": "python",
   "pygments_lexer": "ipython3",
   "version": "3.10.14"
  },
  "papermill": {
   "default_parameters": {},
   "duration": 19.372227,
   "end_time": "2024-10-24T10:26:46.512508",
   "environment_variables": {},
   "exception": null,
   "input_path": "__notebook__.ipynb",
   "output_path": "__notebook__.ipynb",
   "parameters": {},
   "start_time": "2024-10-24T10:26:27.140281",
   "version": "2.6.0"
  }
 },
 "nbformat": 4,
 "nbformat_minor": 5
}
